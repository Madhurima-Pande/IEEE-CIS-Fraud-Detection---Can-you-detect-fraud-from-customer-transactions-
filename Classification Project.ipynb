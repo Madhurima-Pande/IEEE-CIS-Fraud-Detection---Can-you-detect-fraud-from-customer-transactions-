{
 "cells": [
  {
   "cell_type": "code",
   "execution_count": 1,
   "metadata": {
    "id": "Edn1R8eIJhPN"
   },
   "outputs": [],
   "source": [
    "import numpy as np\n",
    "import pandas as pd"
   ]
  },
  {
   "cell_type": "markdown",
   "metadata": {},
   "source": [
    "## Importing Dataset"
   ]
  },
  {
   "cell_type": "code",
   "execution_count": 2,
   "metadata": {
    "id": "d7Yz-n_NJhPQ"
   },
   "outputs": [],
   "source": [
    "data=pd.read_csv('transaction.csv')"
   ]
  },
  {
   "cell_type": "code",
   "execution_count": 8,
   "metadata": {
    "colab": {
     "base_uri": "https://localhost:8080/"
    },
    "id": "Sr55G9K0AAJq",
    "outputId": "5cbd3363-ea89-4c61-e1ca-d1868a6157e2"
   },
   "outputs": [
    {
     "data": {
      "text/plain": [
       "(590540, 394)"
      ]
     },
     "execution_count": 8,
     "metadata": {},
     "output_type": "execute_result"
    }
   ],
   "source": [
    "data.shape"
   ]
  },
  {
   "cell_type": "code",
   "execution_count": 90,
   "metadata": {},
   "outputs": [
    {
     "data": {
      "text/html": [
       "<div>\n",
       "<style scoped>\n",
       "    .dataframe tbody tr th:only-of-type {\n",
       "        vertical-align: middle;\n",
       "    }\n",
       "\n",
       "    .dataframe tbody tr th {\n",
       "        vertical-align: top;\n",
       "    }\n",
       "\n",
       "    .dataframe thead th {\n",
       "        text-align: right;\n",
       "    }\n",
       "</style>\n",
       "<table border=\"1\" class=\"dataframe\">\n",
       "  <thead>\n",
       "    <tr style=\"text-align: right;\">\n",
       "      <th></th>\n",
       "      <th>TransactionID</th>\n",
       "      <th>isFraud</th>\n",
       "      <th>TransactionDT</th>\n",
       "      <th>TransactionAmt</th>\n",
       "      <th>ProductCD</th>\n",
       "      <th>card1</th>\n",
       "      <th>card2</th>\n",
       "      <th>card3</th>\n",
       "      <th>card4</th>\n",
       "      <th>card5</th>\n",
       "      <th>...</th>\n",
       "      <th>V330</th>\n",
       "      <th>V331</th>\n",
       "      <th>V332</th>\n",
       "      <th>V333</th>\n",
       "      <th>V334</th>\n",
       "      <th>V335</th>\n",
       "      <th>V336</th>\n",
       "      <th>V337</th>\n",
       "      <th>V338</th>\n",
       "      <th>V339</th>\n",
       "    </tr>\n",
       "  </thead>\n",
       "  <tbody>\n",
       "    <tr>\n",
       "      <th>0</th>\n",
       "      <td>2987000</td>\n",
       "      <td>0</td>\n",
       "      <td>86400</td>\n",
       "      <td>68.5</td>\n",
       "      <td>W</td>\n",
       "      <td>13926</td>\n",
       "      <td>NaN</td>\n",
       "      <td>150.0</td>\n",
       "      <td>discover</td>\n",
       "      <td>142.0</td>\n",
       "      <td>...</td>\n",
       "      <td>NaN</td>\n",
       "      <td>NaN</td>\n",
       "      <td>NaN</td>\n",
       "      <td>NaN</td>\n",
       "      <td>NaN</td>\n",
       "      <td>NaN</td>\n",
       "      <td>NaN</td>\n",
       "      <td>NaN</td>\n",
       "      <td>NaN</td>\n",
       "      <td>NaN</td>\n",
       "    </tr>\n",
       "    <tr>\n",
       "      <th>1</th>\n",
       "      <td>2987001</td>\n",
       "      <td>0</td>\n",
       "      <td>86401</td>\n",
       "      <td>29.0</td>\n",
       "      <td>W</td>\n",
       "      <td>2755</td>\n",
       "      <td>404.0</td>\n",
       "      <td>150.0</td>\n",
       "      <td>mastercard</td>\n",
       "      <td>102.0</td>\n",
       "      <td>...</td>\n",
       "      <td>NaN</td>\n",
       "      <td>NaN</td>\n",
       "      <td>NaN</td>\n",
       "      <td>NaN</td>\n",
       "      <td>NaN</td>\n",
       "      <td>NaN</td>\n",
       "      <td>NaN</td>\n",
       "      <td>NaN</td>\n",
       "      <td>NaN</td>\n",
       "      <td>NaN</td>\n",
       "    </tr>\n",
       "    <tr>\n",
       "      <th>2</th>\n",
       "      <td>2987002</td>\n",
       "      <td>0</td>\n",
       "      <td>86469</td>\n",
       "      <td>59.0</td>\n",
       "      <td>W</td>\n",
       "      <td>4663</td>\n",
       "      <td>490.0</td>\n",
       "      <td>150.0</td>\n",
       "      <td>visa</td>\n",
       "      <td>166.0</td>\n",
       "      <td>...</td>\n",
       "      <td>NaN</td>\n",
       "      <td>NaN</td>\n",
       "      <td>NaN</td>\n",
       "      <td>NaN</td>\n",
       "      <td>NaN</td>\n",
       "      <td>NaN</td>\n",
       "      <td>NaN</td>\n",
       "      <td>NaN</td>\n",
       "      <td>NaN</td>\n",
       "      <td>NaN</td>\n",
       "    </tr>\n",
       "    <tr>\n",
       "      <th>3</th>\n",
       "      <td>2987003</td>\n",
       "      <td>0</td>\n",
       "      <td>86499</td>\n",
       "      <td>50.0</td>\n",
       "      <td>W</td>\n",
       "      <td>18132</td>\n",
       "      <td>567.0</td>\n",
       "      <td>150.0</td>\n",
       "      <td>mastercard</td>\n",
       "      <td>117.0</td>\n",
       "      <td>...</td>\n",
       "      <td>NaN</td>\n",
       "      <td>NaN</td>\n",
       "      <td>NaN</td>\n",
       "      <td>NaN</td>\n",
       "      <td>NaN</td>\n",
       "      <td>NaN</td>\n",
       "      <td>NaN</td>\n",
       "      <td>NaN</td>\n",
       "      <td>NaN</td>\n",
       "      <td>NaN</td>\n",
       "    </tr>\n",
       "    <tr>\n",
       "      <th>4</th>\n",
       "      <td>2987004</td>\n",
       "      <td>0</td>\n",
       "      <td>86506</td>\n",
       "      <td>50.0</td>\n",
       "      <td>H</td>\n",
       "      <td>4497</td>\n",
       "      <td>514.0</td>\n",
       "      <td>150.0</td>\n",
       "      <td>mastercard</td>\n",
       "      <td>102.0</td>\n",
       "      <td>...</td>\n",
       "      <td>0.0</td>\n",
       "      <td>0.0</td>\n",
       "      <td>0.0</td>\n",
       "      <td>0.0</td>\n",
       "      <td>0.0</td>\n",
       "      <td>0.0</td>\n",
       "      <td>0.0</td>\n",
       "      <td>0.0</td>\n",
       "      <td>0.0</td>\n",
       "      <td>0.0</td>\n",
       "    </tr>\n",
       "  </tbody>\n",
       "</table>\n",
       "<p>5 rows × 394 columns</p>\n",
       "</div>"
      ],
      "text/plain": [
       "   TransactionID  isFraud  TransactionDT  TransactionAmt ProductCD  card1  \\\n",
       "0        2987000        0          86400            68.5         W  13926   \n",
       "1        2987001        0          86401            29.0         W   2755   \n",
       "2        2987002        0          86469            59.0         W   4663   \n",
       "3        2987003        0          86499            50.0         W  18132   \n",
       "4        2987004        0          86506            50.0         H   4497   \n",
       "\n",
       "   card2  card3       card4  card5  ... V330  V331  V332  V333  V334 V335  \\\n",
       "0    NaN  150.0    discover  142.0  ...  NaN   NaN   NaN   NaN   NaN  NaN   \n",
       "1  404.0  150.0  mastercard  102.0  ...  NaN   NaN   NaN   NaN   NaN  NaN   \n",
       "2  490.0  150.0        visa  166.0  ...  NaN   NaN   NaN   NaN   NaN  NaN   \n",
       "3  567.0  150.0  mastercard  117.0  ...  NaN   NaN   NaN   NaN   NaN  NaN   \n",
       "4  514.0  150.0  mastercard  102.0  ...  0.0   0.0   0.0   0.0   0.0  0.0   \n",
       "\n",
       "  V336  V337  V338  V339  \n",
       "0  NaN   NaN   NaN   NaN  \n",
       "1  NaN   NaN   NaN   NaN  \n",
       "2  NaN   NaN   NaN   NaN  \n",
       "3  NaN   NaN   NaN   NaN  \n",
       "4  0.0   0.0   0.0   0.0  \n",
       "\n",
       "[5 rows x 394 columns]"
      ]
     },
     "execution_count": 90,
     "metadata": {},
     "output_type": "execute_result"
    }
   ],
   "source": [
    "data.head()"
   ]
  },
  {
   "cell_type": "code",
   "execution_count": 91,
   "metadata": {},
   "outputs": [
    {
     "data": {
      "text/plain": [
       "Index(['TransactionID', 'isFraud', 'TransactionDT', 'TransactionAmt',\n",
       "       'ProductCD', 'card1', 'card2', 'card3', 'card4', 'card5',\n",
       "       ...\n",
       "       'V330', 'V331', 'V332', 'V333', 'V334', 'V335', 'V336', 'V337', 'V338',\n",
       "       'V339'],\n",
       "      dtype='object', length=394)"
      ]
     },
     "execution_count": 91,
     "metadata": {},
     "output_type": "execute_result"
    }
   ],
   "source": [
    "data.columns"
   ]
  },
  {
   "cell_type": "code",
   "execution_count": 92,
   "metadata": {},
   "outputs": [
    {
     "name": "stdout",
     "output_type": "stream",
     "text": [
      "<class 'pandas.core.frame.DataFrame'>\n",
      "RangeIndex: 590540 entries, 0 to 590539\n",
      "Columns: 394 entries, TransactionID to V339\n",
      "dtypes: float64(376), int64(4), object(14)\n",
      "memory usage: 1.7+ GB\n"
     ]
    }
   ],
   "source": [
    "data.info()"
   ]
  },
  {
   "cell_type": "markdown",
   "metadata": {},
   "source": [
    "## Exploratory Data Analysis"
   ]
  },
  {
   "cell_type": "code",
   "execution_count": 93,
   "metadata": {},
   "outputs": [
    {
     "data": {
      "text/plain": [
       "TransactionID          0\n",
       "isFraud                0\n",
       "TransactionDT          0\n",
       "TransactionAmt         0\n",
       "ProductCD              0\n",
       "                   ...  \n",
       "V335              508189\n",
       "V336              508189\n",
       "V337              508189\n",
       "V338              508189\n",
       "V339              508189\n",
       "Length: 394, dtype: int64"
      ]
     },
     "execution_count": 93,
     "metadata": {},
     "output_type": "execute_result"
    }
   ],
   "source": [
    "data.isnull().sum()"
   ]
  },
  {
   "cell_type": "code",
   "execution_count": 94,
   "metadata": {},
   "outputs": [
    {
     "data": {
      "text/html": [
       "<div>\n",
       "<style scoped>\n",
       "    .dataframe tbody tr th:only-of-type {\n",
       "        vertical-align: middle;\n",
       "    }\n",
       "\n",
       "    .dataframe tbody tr th {\n",
       "        vertical-align: top;\n",
       "    }\n",
       "\n",
       "    .dataframe thead th {\n",
       "        text-align: right;\n",
       "    }\n",
       "</style>\n",
       "<table border=\"1\" class=\"dataframe\">\n",
       "  <thead>\n",
       "    <tr style=\"text-align: right;\">\n",
       "      <th></th>\n",
       "      <th>TransactionID</th>\n",
       "      <th>isFraud</th>\n",
       "      <th>TransactionDT</th>\n",
       "      <th>TransactionAmt</th>\n",
       "      <th>card1</th>\n",
       "      <th>card2</th>\n",
       "      <th>card3</th>\n",
       "      <th>card5</th>\n",
       "      <th>addr1</th>\n",
       "      <th>addr2</th>\n",
       "      <th>...</th>\n",
       "      <th>V330</th>\n",
       "      <th>V331</th>\n",
       "      <th>V332</th>\n",
       "      <th>V333</th>\n",
       "      <th>V334</th>\n",
       "      <th>V335</th>\n",
       "      <th>V336</th>\n",
       "      <th>V337</th>\n",
       "      <th>V338</th>\n",
       "      <th>V339</th>\n",
       "    </tr>\n",
       "  </thead>\n",
       "  <tbody>\n",
       "    <tr>\n",
       "      <th>count</th>\n",
       "      <td>5.905400e+05</td>\n",
       "      <td>590540.000000</td>\n",
       "      <td>5.905400e+05</td>\n",
       "      <td>590540.000000</td>\n",
       "      <td>590540.000000</td>\n",
       "      <td>581607.000000</td>\n",
       "      <td>588975.000000</td>\n",
       "      <td>586281.000000</td>\n",
       "      <td>524834.000000</td>\n",
       "      <td>524834.000000</td>\n",
       "      <td>...</td>\n",
       "      <td>82351.000000</td>\n",
       "      <td>82351.000000</td>\n",
       "      <td>82351.000000</td>\n",
       "      <td>82351.000000</td>\n",
       "      <td>82351.000000</td>\n",
       "      <td>82351.00000</td>\n",
       "      <td>82351.000000</td>\n",
       "      <td>82351.000000</td>\n",
       "      <td>82351.000000</td>\n",
       "      <td>82351.000000</td>\n",
       "    </tr>\n",
       "    <tr>\n",
       "      <th>mean</th>\n",
       "      <td>3.282270e+06</td>\n",
       "      <td>0.034990</td>\n",
       "      <td>7.372311e+06</td>\n",
       "      <td>135.027176</td>\n",
       "      <td>9898.734658</td>\n",
       "      <td>362.555488</td>\n",
       "      <td>153.194925</td>\n",
       "      <td>199.278897</td>\n",
       "      <td>290.733794</td>\n",
       "      <td>86.800630</td>\n",
       "      <td>...</td>\n",
       "      <td>0.775874</td>\n",
       "      <td>721.741883</td>\n",
       "      <td>1375.783644</td>\n",
       "      <td>1014.622782</td>\n",
       "      <td>9.807015</td>\n",
       "      <td>59.16455</td>\n",
       "      <td>28.530903</td>\n",
       "      <td>55.352422</td>\n",
       "      <td>151.160542</td>\n",
       "      <td>100.700882</td>\n",
       "    </tr>\n",
       "    <tr>\n",
       "      <th>std</th>\n",
       "      <td>1.704744e+05</td>\n",
       "      <td>0.183755</td>\n",
       "      <td>4.617224e+06</td>\n",
       "      <td>239.162522</td>\n",
       "      <td>4901.170153</td>\n",
       "      <td>157.793246</td>\n",
       "      <td>11.336444</td>\n",
       "      <td>41.244453</td>\n",
       "      <td>101.741072</td>\n",
       "      <td>2.690623</td>\n",
       "      <td>...</td>\n",
       "      <td>4.727971</td>\n",
       "      <td>6217.223583</td>\n",
       "      <td>11169.275702</td>\n",
       "      <td>7955.735482</td>\n",
       "      <td>243.861391</td>\n",
       "      <td>387.62948</td>\n",
       "      <td>274.576920</td>\n",
       "      <td>668.486833</td>\n",
       "      <td>1095.034387</td>\n",
       "      <td>814.946722</td>\n",
       "    </tr>\n",
       "    <tr>\n",
       "      <th>min</th>\n",
       "      <td>2.987000e+06</td>\n",
       "      <td>0.000000</td>\n",
       "      <td>8.640000e+04</td>\n",
       "      <td>0.251000</td>\n",
       "      <td>1000.000000</td>\n",
       "      <td>100.000000</td>\n",
       "      <td>100.000000</td>\n",
       "      <td>100.000000</td>\n",
       "      <td>100.000000</td>\n",
       "      <td>10.000000</td>\n",
       "      <td>...</td>\n",
       "      <td>0.000000</td>\n",
       "      <td>0.000000</td>\n",
       "      <td>0.000000</td>\n",
       "      <td>0.000000</td>\n",
       "      <td>0.000000</td>\n",
       "      <td>0.00000</td>\n",
       "      <td>0.000000</td>\n",
       "      <td>0.000000</td>\n",
       "      <td>0.000000</td>\n",
       "      <td>0.000000</td>\n",
       "    </tr>\n",
       "    <tr>\n",
       "      <th>25%</th>\n",
       "      <td>3.134635e+06</td>\n",
       "      <td>0.000000</td>\n",
       "      <td>3.027058e+06</td>\n",
       "      <td>43.321000</td>\n",
       "      <td>6019.000000</td>\n",
       "      <td>214.000000</td>\n",
       "      <td>150.000000</td>\n",
       "      <td>166.000000</td>\n",
       "      <td>204.000000</td>\n",
       "      <td>87.000000</td>\n",
       "      <td>...</td>\n",
       "      <td>0.000000</td>\n",
       "      <td>0.000000</td>\n",
       "      <td>0.000000</td>\n",
       "      <td>0.000000</td>\n",
       "      <td>0.000000</td>\n",
       "      <td>0.00000</td>\n",
       "      <td>0.000000</td>\n",
       "      <td>0.000000</td>\n",
       "      <td>0.000000</td>\n",
       "      <td>0.000000</td>\n",
       "    </tr>\n",
       "    <tr>\n",
       "      <th>50%</th>\n",
       "      <td>3.282270e+06</td>\n",
       "      <td>0.000000</td>\n",
       "      <td>7.306528e+06</td>\n",
       "      <td>68.769000</td>\n",
       "      <td>9678.000000</td>\n",
       "      <td>361.000000</td>\n",
       "      <td>150.000000</td>\n",
       "      <td>226.000000</td>\n",
       "      <td>299.000000</td>\n",
       "      <td>87.000000</td>\n",
       "      <td>...</td>\n",
       "      <td>0.000000</td>\n",
       "      <td>0.000000</td>\n",
       "      <td>0.000000</td>\n",
       "      <td>0.000000</td>\n",
       "      <td>0.000000</td>\n",
       "      <td>0.00000</td>\n",
       "      <td>0.000000</td>\n",
       "      <td>0.000000</td>\n",
       "      <td>0.000000</td>\n",
       "      <td>0.000000</td>\n",
       "    </tr>\n",
       "    <tr>\n",
       "      <th>75%</th>\n",
       "      <td>3.429904e+06</td>\n",
       "      <td>0.000000</td>\n",
       "      <td>1.124662e+07</td>\n",
       "      <td>125.000000</td>\n",
       "      <td>14184.000000</td>\n",
       "      <td>512.000000</td>\n",
       "      <td>150.000000</td>\n",
       "      <td>226.000000</td>\n",
       "      <td>330.000000</td>\n",
       "      <td>87.000000</td>\n",
       "      <td>...</td>\n",
       "      <td>0.000000</td>\n",
       "      <td>0.000000</td>\n",
       "      <td>25.000000</td>\n",
       "      <td>0.000000</td>\n",
       "      <td>0.000000</td>\n",
       "      <td>0.00000</td>\n",
       "      <td>0.000000</td>\n",
       "      <td>0.000000</td>\n",
       "      <td>0.000000</td>\n",
       "      <td>0.000000</td>\n",
       "    </tr>\n",
       "    <tr>\n",
       "      <th>max</th>\n",
       "      <td>3.577539e+06</td>\n",
       "      <td>1.000000</td>\n",
       "      <td>1.581113e+07</td>\n",
       "      <td>31937.391000</td>\n",
       "      <td>18396.000000</td>\n",
       "      <td>600.000000</td>\n",
       "      <td>231.000000</td>\n",
       "      <td>237.000000</td>\n",
       "      <td>540.000000</td>\n",
       "      <td>102.000000</td>\n",
       "      <td>...</td>\n",
       "      <td>55.000000</td>\n",
       "      <td>160000.000000</td>\n",
       "      <td>160000.000000</td>\n",
       "      <td>160000.000000</td>\n",
       "      <td>55125.000000</td>\n",
       "      <td>55125.00000</td>\n",
       "      <td>55125.000000</td>\n",
       "      <td>104060.000000</td>\n",
       "      <td>104060.000000</td>\n",
       "      <td>104060.000000</td>\n",
       "    </tr>\n",
       "  </tbody>\n",
       "</table>\n",
       "<p>8 rows × 380 columns</p>\n",
       "</div>"
      ],
      "text/plain": [
       "       TransactionID        isFraud  TransactionDT  TransactionAmt  \\\n",
       "count   5.905400e+05  590540.000000   5.905400e+05   590540.000000   \n",
       "mean    3.282270e+06       0.034990   7.372311e+06      135.027176   \n",
       "std     1.704744e+05       0.183755   4.617224e+06      239.162522   \n",
       "min     2.987000e+06       0.000000   8.640000e+04        0.251000   \n",
       "25%     3.134635e+06       0.000000   3.027058e+06       43.321000   \n",
       "50%     3.282270e+06       0.000000   7.306528e+06       68.769000   \n",
       "75%     3.429904e+06       0.000000   1.124662e+07      125.000000   \n",
       "max     3.577539e+06       1.000000   1.581113e+07    31937.391000   \n",
       "\n",
       "               card1          card2          card3          card5  \\\n",
       "count  590540.000000  581607.000000  588975.000000  586281.000000   \n",
       "mean     9898.734658     362.555488     153.194925     199.278897   \n",
       "std      4901.170153     157.793246      11.336444      41.244453   \n",
       "min      1000.000000     100.000000     100.000000     100.000000   \n",
       "25%      6019.000000     214.000000     150.000000     166.000000   \n",
       "50%      9678.000000     361.000000     150.000000     226.000000   \n",
       "75%     14184.000000     512.000000     150.000000     226.000000   \n",
       "max     18396.000000     600.000000     231.000000     237.000000   \n",
       "\n",
       "               addr1          addr2  ...          V330           V331  \\\n",
       "count  524834.000000  524834.000000  ...  82351.000000   82351.000000   \n",
       "mean      290.733794      86.800630  ...      0.775874     721.741883   \n",
       "std       101.741072       2.690623  ...      4.727971    6217.223583   \n",
       "min       100.000000      10.000000  ...      0.000000       0.000000   \n",
       "25%       204.000000      87.000000  ...      0.000000       0.000000   \n",
       "50%       299.000000      87.000000  ...      0.000000       0.000000   \n",
       "75%       330.000000      87.000000  ...      0.000000       0.000000   \n",
       "max       540.000000     102.000000  ...     55.000000  160000.000000   \n",
       "\n",
       "                V332           V333          V334         V335          V336  \\\n",
       "count   82351.000000   82351.000000  82351.000000  82351.00000  82351.000000   \n",
       "mean     1375.783644    1014.622782      9.807015     59.16455     28.530903   \n",
       "std     11169.275702    7955.735482    243.861391    387.62948    274.576920   \n",
       "min         0.000000       0.000000      0.000000      0.00000      0.000000   \n",
       "25%         0.000000       0.000000      0.000000      0.00000      0.000000   \n",
       "50%         0.000000       0.000000      0.000000      0.00000      0.000000   \n",
       "75%        25.000000       0.000000      0.000000      0.00000      0.000000   \n",
       "max    160000.000000  160000.000000  55125.000000  55125.00000  55125.000000   \n",
       "\n",
       "                V337           V338           V339  \n",
       "count   82351.000000   82351.000000   82351.000000  \n",
       "mean       55.352422     151.160542     100.700882  \n",
       "std       668.486833    1095.034387     814.946722  \n",
       "min         0.000000       0.000000       0.000000  \n",
       "25%         0.000000       0.000000       0.000000  \n",
       "50%         0.000000       0.000000       0.000000  \n",
       "75%         0.000000       0.000000       0.000000  \n",
       "max    104060.000000  104060.000000  104060.000000  \n",
       "\n",
       "[8 rows x 380 columns]"
      ]
     },
     "execution_count": 94,
     "metadata": {},
     "output_type": "execute_result"
    }
   ],
   "source": [
    "data.describe()"
   ]
  },
  {
   "cell_type": "code",
   "execution_count": 6,
   "metadata": {},
   "outputs": [],
   "source": [
    "import seaborn as sns\n",
    "import matplotlib.pyplot as plt"
   ]
  },
  {
   "cell_type": "code",
   "execution_count": 96,
   "metadata": {},
   "outputs": [
    {
     "name": "stderr",
     "output_type": "stream",
     "text": [
      "C:\\Users\\HP\\anaconda3\\lib\\site-packages\\seaborn\\distributions.py:2619: FutureWarning: `distplot` is a deprecated function and will be removed in a future version. Please adapt your code to use either `displot` (a figure-level function with similar flexibility) or `histplot` (an axes-level function for histograms).\n",
      "  warnings.warn(msg, FutureWarning)\n"
     ]
    },
    {
     "data": {
      "text/plain": [
       "<AxesSubplot:xlabel='isFraud', ylabel='Density'>"
      ]
     },
     "execution_count": 96,
     "metadata": {},
     "output_type": "execute_result"
    },
    {
     "data": {
      "image/png": "[encoded data removed]",
      "text/plain": [
       "<Figure size 432x288 with 1 Axes>"
      ]
     },
     "metadata": {
      "needs_background": "light"
     },
     "output_type": "display_data"
    }
   ],
   "source": [
    "cnt_graph=sns.distplot(data['isFraud'])\n",
    "cnt_graph"
   ]
  },
  {
   "cell_type": "code",
   "execution_count": 97,
   "metadata": {},
   "outputs": [
    {
     "name": "stdout",
     "output_type": "stream",
     "text": [
      "Skewness : 5.061223\n",
      "Kurtosis : 23.616056\n"
     ]
    }
   ],
   "source": [
    "print(\"Skewness : %f\" % data[\"isFraud\"].skew())\n",
    "print(\"Kurtosis : %f\" % data[\"isFraud\"].kurt())"
   ]
  },
  {
   "cell_type": "code",
   "execution_count": 98,
   "metadata": {},
   "outputs": [
    {
     "data": {
      "text/html": [
       "<div>\n",
       "<style scoped>\n",
       "    .dataframe tbody tr th:only-of-type {\n",
       "        vertical-align: middle;\n",
       "    }\n",
       "\n",
       "    .dataframe tbody tr th {\n",
       "        vertical-align: top;\n",
       "    }\n",
       "\n",
       "    .dataframe thead th {\n",
       "        text-align: right;\n",
       "    }\n",
       "</style>\n",
       "<table border=\"1\" class=\"dataframe\">\n",
       "  <thead>\n",
       "    <tr style=\"text-align: right;\">\n",
       "      <th></th>\n",
       "      <th>TransactionID</th>\n",
       "      <th>isFraud</th>\n",
       "      <th>TransactionDT</th>\n",
       "      <th>TransactionAmt</th>\n",
       "      <th>card1</th>\n",
       "      <th>card2</th>\n",
       "      <th>card3</th>\n",
       "      <th>card5</th>\n",
       "      <th>addr1</th>\n",
       "      <th>addr2</th>\n",
       "      <th>...</th>\n",
       "      <th>V330</th>\n",
       "      <th>V331</th>\n",
       "      <th>V332</th>\n",
       "      <th>V333</th>\n",
       "      <th>V334</th>\n",
       "      <th>V335</th>\n",
       "      <th>V336</th>\n",
       "      <th>V337</th>\n",
       "      <th>V338</th>\n",
       "      <th>V339</th>\n",
       "    </tr>\n",
       "  </thead>\n",
       "  <tbody>\n",
       "    <tr>\n",
       "      <th>TransactionID</th>\n",
       "      <td>1.000000</td>\n",
       "      <td>0.014166</td>\n",
       "      <td>0.998280</td>\n",
       "      <td>0.012025</td>\n",
       "      <td>0.010122</td>\n",
       "      <td>-0.019900</td>\n",
       "      <td>-0.010091</td>\n",
       "      <td>-0.023900</td>\n",
       "      <td>-0.000370</td>\n",
       "      <td>0.057213</td>\n",
       "      <td>...</td>\n",
       "      <td>0.250831</td>\n",
       "      <td>0.199285</td>\n",
       "      <td>0.219190</td>\n",
       "      <td>0.223816</td>\n",
       "      <td>0.005893</td>\n",
       "      <td>0.179740</td>\n",
       "      <td>0.103030</td>\n",
       "      <td>0.074034</td>\n",
       "      <td>0.203922</td>\n",
       "      <td>0.162702</td>\n",
       "    </tr>\n",
       "    <tr>\n",
       "      <th>isFraud</th>\n",
       "      <td>0.014166</td>\n",
       "      <td>1.000000</td>\n",
       "      <td>0.013103</td>\n",
       "      <td>0.011320</td>\n",
       "      <td>-0.013640</td>\n",
       "      <td>0.003388</td>\n",
       "      <td>0.154151</td>\n",
       "      <td>-0.033580</td>\n",
       "      <td>0.005596</td>\n",
       "      <td>-0.030387</td>\n",
       "      <td>...</td>\n",
       "      <td>-0.021164</td>\n",
       "      <td>-0.021982</td>\n",
       "      <td>-0.023468</td>\n",
       "      <td>-0.024134</td>\n",
       "      <td>-0.000451</td>\n",
       "      <td>-0.005456</td>\n",
       "      <td>-0.002402</td>\n",
       "      <td>-0.005702</td>\n",
       "      <td>-0.019356</td>\n",
       "      <td>-0.014663</td>\n",
       "    </tr>\n",
       "    <tr>\n",
       "      <th>TransactionDT</th>\n",
       "      <td>0.998280</td>\n",
       "      <td>0.013103</td>\n",
       "      <td>1.000000</td>\n",
       "      <td>0.011920</td>\n",
       "      <td>0.010625</td>\n",
       "      <td>-0.019202</td>\n",
       "      <td>-0.011222</td>\n",
       "      <td>-0.024132</td>\n",
       "      <td>-0.000051</td>\n",
       "      <td>0.051972</td>\n",
       "      <td>...</td>\n",
       "      <td>0.258603</td>\n",
       "      <td>0.205671</td>\n",
       "      <td>0.226312</td>\n",
       "      <td>0.231072</td>\n",
       "      <td>0.005762</td>\n",
       "      <td>0.184407</td>\n",
       "      <td>0.105783</td>\n",
       "      <td>0.075892</td>\n",
       "      <td>0.210240</td>\n",
       "      <td>0.167524</td>\n",
       "    </tr>\n",
       "    <tr>\n",
       "      <th>TransactionAmt</th>\n",
       "      <td>0.012025</td>\n",
       "      <td>0.011320</td>\n",
       "      <td>0.011920</td>\n",
       "      <td>1.000000</td>\n",
       "      <td>-0.005725</td>\n",
       "      <td>0.016136</td>\n",
       "      <td>-0.109785</td>\n",
       "      <td>0.003061</td>\n",
       "      <td>-0.007421</td>\n",
       "      <td>0.028312</td>\n",
       "      <td>...</td>\n",
       "      <td>0.003909</td>\n",
       "      <td>0.024319</td>\n",
       "      <td>0.010808</td>\n",
       "      <td>0.017385</td>\n",
       "      <td>0.078751</td>\n",
       "      <td>0.044830</td>\n",
       "      <td>0.070651</td>\n",
       "      <td>0.129452</td>\n",
       "      <td>0.082064</td>\n",
       "      <td>0.105996</td>\n",
       "    </tr>\n",
       "    <tr>\n",
       "      <th>card1</th>\n",
       "      <td>0.010122</td>\n",
       "      <td>-0.013640</td>\n",
       "      <td>0.010625</td>\n",
       "      <td>-0.005725</td>\n",
       "      <td>1.000000</td>\n",
       "      <td>0.004960</td>\n",
       "      <td>0.002965</td>\n",
       "      <td>-0.093633</td>\n",
       "      <td>0.020369</td>\n",
       "      <td>-0.000060</td>\n",
       "      <td>...</td>\n",
       "      <td>0.146483</td>\n",
       "      <td>0.121763</td>\n",
       "      <td>0.133150</td>\n",
       "      <td>0.136557</td>\n",
       "      <td>-0.001903</td>\n",
       "      <td>0.080603</td>\n",
       "      <td>0.050555</td>\n",
       "      <td>0.036052</td>\n",
       "      <td>0.118885</td>\n",
       "      <td>0.091271</td>\n",
       "    </tr>\n",
       "    <tr>\n",
       "      <th>...</th>\n",
       "      <td>...</td>\n",
       "      <td>...</td>\n",
       "      <td>...</td>\n",
       "      <td>...</td>\n",
       "      <td>...</td>\n",
       "      <td>...</td>\n",
       "      <td>...</td>\n",
       "      <td>...</td>\n",
       "      <td>...</td>\n",
       "      <td>...</td>\n",
       "      <td>...</td>\n",
       "      <td>...</td>\n",
       "      <td>...</td>\n",
       "      <td>...</td>\n",
       "      <td>...</td>\n",
       "      <td>...</td>\n",
       "      <td>...</td>\n",
       "      <td>...</td>\n",
       "      <td>...</td>\n",
       "      <td>...</td>\n",
       "      <td>...</td>\n",
       "    </tr>\n",
       "    <tr>\n",
       "      <th>V335</th>\n",
       "      <td>0.179740</td>\n",
       "      <td>-0.005456</td>\n",
       "      <td>0.184407</td>\n",
       "      <td>0.044830</td>\n",
       "      <td>0.080603</td>\n",
       "      <td>0.044073</td>\n",
       "      <td>0.000465</td>\n",
       "      <td>-0.209817</td>\n",
       "      <td>0.029812</td>\n",
       "      <td>0.006035</td>\n",
       "      <td>...</td>\n",
       "      <td>0.647561</td>\n",
       "      <td>0.593782</td>\n",
       "      <td>0.647208</td>\n",
       "      <td>0.657350</td>\n",
       "      <td>0.703988</td>\n",
       "      <td>1.000000</td>\n",
       "      <td>0.914130</td>\n",
       "      <td>0.166021</td>\n",
       "      <td>0.552533</td>\n",
       "      <td>0.411911</td>\n",
       "    </tr>\n",
       "    <tr>\n",
       "      <th>V336</th>\n",
       "      <td>0.103030</td>\n",
       "      <td>-0.002402</td>\n",
       "      <td>0.105783</td>\n",
       "      <td>0.070651</td>\n",
       "      <td>0.050555</td>\n",
       "      <td>0.029899</td>\n",
       "      <td>-0.001279</td>\n",
       "      <td>-0.139576</td>\n",
       "      <td>0.019343</td>\n",
       "      <td>0.004541</td>\n",
       "      <td>...</td>\n",
       "      <td>0.412448</td>\n",
       "      <td>0.389508</td>\n",
       "      <td>0.410970</td>\n",
       "      <td>0.425812</td>\n",
       "      <td>0.906312</td>\n",
       "      <td>0.914130</td>\n",
       "      <td>1.000000</td>\n",
       "      <td>0.118221</td>\n",
       "      <td>0.353950</td>\n",
       "      <td>0.274392</td>\n",
       "    </tr>\n",
       "    <tr>\n",
       "      <th>V337</th>\n",
       "      <td>0.074034</td>\n",
       "      <td>-0.005702</td>\n",
       "      <td>0.075892</td>\n",
       "      <td>0.129452</td>\n",
       "      <td>0.036052</td>\n",
       "      <td>0.017705</td>\n",
       "      <td>0.001361</td>\n",
       "      <td>-0.076374</td>\n",
       "      <td>0.011272</td>\n",
       "      <td>0.001554</td>\n",
       "      <td>...</td>\n",
       "      <td>0.245626</td>\n",
       "      <td>0.309989</td>\n",
       "      <td>0.259108</td>\n",
       "      <td>0.295698</td>\n",
       "      <td>0.041888</td>\n",
       "      <td>0.166021</td>\n",
       "      <td>0.118221</td>\n",
       "      <td>1.000000</td>\n",
       "      <td>0.742652</td>\n",
       "      <td>0.907378</td>\n",
       "    </tr>\n",
       "    <tr>\n",
       "      <th>V338</th>\n",
       "      <td>0.203922</td>\n",
       "      <td>-0.019356</td>\n",
       "      <td>0.210240</td>\n",
       "      <td>0.082064</td>\n",
       "      <td>0.118885</td>\n",
       "      <td>0.055566</td>\n",
       "      <td>0.001970</td>\n",
       "      <td>-0.233342</td>\n",
       "      <td>0.034816</td>\n",
       "      <td>0.003999</td>\n",
       "      <td>...</td>\n",
       "      <td>0.780555</td>\n",
       "      <td>0.752075</td>\n",
       "      <td>0.800310</td>\n",
       "      <td>0.823754</td>\n",
       "      <td>0.054911</td>\n",
       "      <td>0.552533</td>\n",
       "      <td>0.353950</td>\n",
       "      <td>0.742652</td>\n",
       "      <td>1.000000</td>\n",
       "      <td>0.940009</td>\n",
       "    </tr>\n",
       "    <tr>\n",
       "      <th>V339</th>\n",
       "      <td>0.162702</td>\n",
       "      <td>-0.014663</td>\n",
       "      <td>0.167524</td>\n",
       "      <td>0.105996</td>\n",
       "      <td>0.091271</td>\n",
       "      <td>0.043249</td>\n",
       "      <td>0.001800</td>\n",
       "      <td>-0.182758</td>\n",
       "      <td>0.026908</td>\n",
       "      <td>0.003237</td>\n",
       "      <td>...</td>\n",
       "      <td>0.611463</td>\n",
       "      <td>0.572187</td>\n",
       "      <td>0.579686</td>\n",
       "      <td>0.620566</td>\n",
       "      <td>0.055864</td>\n",
       "      <td>0.411911</td>\n",
       "      <td>0.274392</td>\n",
       "      <td>0.907378</td>\n",
       "      <td>0.940009</td>\n",
       "      <td>1.000000</td>\n",
       "    </tr>\n",
       "  </tbody>\n",
       "</table>\n",
       "<p>380 rows × 380 columns</p>\n",
       "</div>"
      ],
      "text/plain": [
       "                TransactionID   isFraud  TransactionDT  TransactionAmt  \\\n",
       "TransactionID        1.000000  0.014166       0.998280        0.012025   \n",
       "isFraud              0.014166  1.000000       0.013103        0.011320   \n",
       "TransactionDT        0.998280  0.013103       1.000000        0.011920   \n",
       "TransactionAmt       0.012025  0.011320       0.011920        1.000000   \n",
       "card1                0.010122 -0.013640       0.010625       -0.005725   \n",
       "...                       ...       ...            ...             ...   \n",
       "V335                 0.179740 -0.005456       0.184407        0.044830   \n",
       "V336                 0.103030 -0.002402       0.105783        0.070651   \n",
       "V337                 0.074034 -0.005702       0.075892        0.129452   \n",
       "V338                 0.203922 -0.019356       0.210240        0.082064   \n",
       "V339                 0.162702 -0.014663       0.167524        0.105996   \n",
       "\n",
       "                   card1     card2     card3     card5     addr1     addr2  \\\n",
       "TransactionID   0.010122 -0.019900 -0.010091 -0.023900 -0.000370  0.057213   \n",
       "isFraud        -0.013640  0.003388  0.154151 -0.033580  0.005596 -0.030387   \n",
       "TransactionDT   0.010625 -0.019202 -0.011222 -0.024132 -0.000051  0.051972   \n",
       "TransactionAmt -0.005725  0.016136 -0.109785  0.003061 -0.007421  0.028312   \n",
       "card1           1.000000  0.004960  0.002965 -0.093633  0.020369 -0.000060   \n",
       "...                  ...       ...       ...       ...       ...       ...   \n",
       "V335            0.080603  0.044073  0.000465 -0.209817  0.029812  0.006035   \n",
       "V336            0.050555  0.029899 -0.001279 -0.139576  0.019343  0.004541   \n",
       "V337            0.036052  0.017705  0.001361 -0.076374  0.011272  0.001554   \n",
       "V338            0.118885  0.055566  0.001970 -0.233342  0.034816  0.003999   \n",
       "V339            0.091271  0.043249  0.001800 -0.182758  0.026908  0.003237   \n",
       "\n",
       "                ...      V330      V331      V332      V333      V334  \\\n",
       "TransactionID   ...  0.250831  0.199285  0.219190  0.223816  0.005893   \n",
       "isFraud         ... -0.021164 -0.021982 -0.023468 -0.024134 -0.000451   \n",
       "TransactionDT   ...  0.258603  0.205671  0.226312  0.231072  0.005762   \n",
       "TransactionAmt  ...  0.003909  0.024319  0.010808  0.017385  0.078751   \n",
       "card1           ...  0.146483  0.121763  0.133150  0.136557 -0.001903   \n",
       "...             ...       ...       ...       ...       ...       ...   \n",
       "V335            ...  0.647561  0.593782  0.647208  0.657350  0.703988   \n",
       "V336            ...  0.412448  0.389508  0.410970  0.425812  0.906312   \n",
       "V337            ...  0.245626  0.309989  0.259108  0.295698  0.041888   \n",
       "V338            ...  0.780555  0.752075  0.800310  0.823754  0.054911   \n",
       "V339            ...  0.611463  0.572187  0.579686  0.620566  0.055864   \n",
       "\n",
       "                    V335      V336      V337      V338      V339  \n",
       "TransactionID   0.179740  0.103030  0.074034  0.203922  0.162702  \n",
       "isFraud        -0.005456 -0.002402 -0.005702 -0.019356 -0.014663  \n",
       "TransactionDT   0.184407  0.105783  0.075892  0.210240  0.167524  \n",
       "TransactionAmt  0.044830  0.070651  0.129452  0.082064  0.105996  \n",
       "card1           0.080603  0.050555  0.036052  0.118885  0.091271  \n",
       "...                  ...       ...       ...       ...       ...  \n",
       "V335            1.000000  0.914130  0.166021  0.552533  0.411911  \n",
       "V336            0.914130  1.000000  0.118221  0.353950  0.274392  \n",
       "V337            0.166021  0.118221  1.000000  0.742652  0.907378  \n",
       "V338            0.552533  0.353950  0.742652  1.000000  0.940009  \n",
       "V339            0.411911  0.274392  0.907378  0.940009  1.000000  \n",
       "\n",
       "[380 rows x 380 columns]"
      ]
     },
     "execution_count": 98,
     "metadata": {},
     "output_type": "execute_result"
    }
   ],
   "source": [
    "data.corr()"
   ]
  },
  {
   "cell_type": "code",
   "execution_count": 4,
   "metadata": {},
   "outputs": [
    {
     "data": {
      "text/plain": [
       "W    439670\n",
       "C     68519\n",
       "R     37699\n",
       "H     33024\n",
       "S     11628\n",
       "Name: ProductCD, dtype: int64"
      ]
     },
     "execution_count": 4,
     "metadata": {},
     "output_type": "execute_result"
    }
   ],
   "source": [
    "data['ProductCD'].value_counts()"
   ]
  },
  {
   "cell_type": "markdown",
   "metadata": {},
   "source": [
    "Unique value of W is higher than other type"
   ]
  },
  {
   "cell_type": "code",
   "execution_count": 7,
   "metadata": {},
   "outputs": [
    {
     "data": {
      "text/plain": [
       "<AxesSubplot:xlabel='ProductCD', ylabel='isFraud'>"
      ]
     },
     "execution_count": 7,
     "metadata": {},
     "output_type": "execute_result"
    },
    {
     "data": {
      "image/png": "[encoded data removed]",
      "text/plain": [
       "<Figure size 432x288 with 1 Axes>"
      ]
     },
     "metadata": {
      "needs_background": "light"
     },
     "output_type": "display_data"
    }
   ],
   "source": [
    "sns.barplot(x='ProductCD',y='isFraud',data=data)"
   ]
  },
  {
   "cell_type": "markdown",
   "metadata": {},
   "source": [
    "Product C has more fraudulent record"
   ]
  },
  {
   "cell_type": "code",
   "execution_count": 8,
   "metadata": {},
   "outputs": [
    {
     "data": {
      "text/plain": [
       "<AxesSubplot:xlabel='card4', ylabel='isFraud'>"
      ]
     },
     "execution_count": 8,
     "metadata": {},
     "output_type": "execute_result"
    },
    {
     "data": {
      "image/png": "[encoded data removed]",
      "text/plain": [
       "<Figure size 432x288 with 1 Axes>"
      ]
     },
     "metadata": {
      "needs_background": "light"
     },
     "output_type": "display_data"
    }
   ],
   "source": [
    "sns.barplot(data=data,y='isFraud',x='card4')"
   ]
  },
  {
   "cell_type": "code",
   "execution_count": 9,
   "metadata": {},
   "outputs": [
    {
     "data": {
      "text/plain": [
       "<seaborn.axisgrid.FacetGrid at 0x16bef0dd400>"
      ]
     },
     "execution_count": 9,
     "metadata": {},
     "output_type": "execute_result"
    },
    {
     "data": {
      "image/png": "[encoded data removed]",
      "text/plain": [
       "<Figure size 360x360 with 1 Axes>"
      ]
     },
     "metadata": {
      "needs_background": "light"
     },
     "output_type": "display_data"
    }
   ],
   "source": [
    "sns.catplot(data=data,x='card4',y='isFraud',kind='violin',hue='card4')"
   ]
  },
  {
   "cell_type": "markdown",
   "metadata": {},
   "source": [
    "Discover card type has highest fraudulent record"
   ]
  },
  {
   "cell_type": "code",
   "execution_count": 10,
   "metadata": {},
   "outputs": [
    {
     "data": {
      "text/plain": [
       "<AxesSubplot:xlabel='card6', ylabel='isFraud'>"
      ]
     },
     "execution_count": 10,
     "metadata": {},
     "output_type": "execute_result"
    },
    {
     "data": {
      "image/png": "[encoded data removed]",
      "text/plain": [
       "<Figure size 432x288 with 1 Axes>"
      ]
     },
     "metadata": {
      "needs_background": "light"
     },
     "output_type": "display_data"
    }
   ],
   "source": [
    "sns.barplot(data=data,y='isFraud',x='card6')"
   ]
  },
  {
   "cell_type": "markdown",
   "metadata": {},
   "source": [
    "Credit card has more fraudulent record"
   ]
  },
  {
   "cell_type": "code",
   "execution_count": 11,
   "metadata": {},
   "outputs": [
    {
     "data": {
      "text/plain": [
       "TransactionID          0\n",
       "isFraud                0\n",
       "TransactionDT          0\n",
       "TransactionAmt         0\n",
       "ProductCD              0\n",
       "                   ...  \n",
       "V335              508189\n",
       "V336              508189\n",
       "V337              508189\n",
       "V338              508189\n",
       "V339              508189\n",
       "Length: 394, dtype: int64"
      ]
     },
     "execution_count": 11,
     "metadata": {},
     "output_type": "execute_result"
    }
   ],
   "source": [
    "data.isnull().sum()"
   ]
  },
  {
   "cell_type": "code",
   "execution_count": 9,
   "metadata": {
    "id": "0WzsjuSLJhPT"
   },
   "outputs": [],
   "source": [
    "data1=data.dropna(thresh=data.shape[0]*0.6,how='all',axis=1) ## We first drop all columns with more than 60% missing data"
   ]
  },
  {
   "cell_type": "code",
   "execution_count": 10,
   "metadata": {
    "colab": {
     "base_uri": "https://localhost:8080/"
    },
    "id": "FPUHO6UpAJGx",
    "outputId": "0a1a738d-702b-4ac3-8bb0-b73002ef1652"
   },
   "outputs": [
    {
     "data": {
      "text/plain": [
       "(590540, 202)"
      ]
     },
     "execution_count": 10,
     "metadata": {},
     "output_type": "execute_result"
    }
   ],
   "source": [
    "data1.shape"
   ]
  },
  {
   "cell_type": "code",
   "execution_count": 11,
   "metadata": {
    "id": "aeEm4bbca1Me"
   },
   "outputs": [],
   "source": [
    "def corr_ratio(categories, values):\n",
    "    cat = pd.factorize(categories)[0]\n",
    "    values = np.array(values)\n",
    "    \n",
    "    ssw = 0\n",
    "    ssb = 0\n",
    "    for i in np.unique(cat):\n",
    "        subgroup = values[np.argwhere(cat == i).flatten()]\n",
    "        ssw += np.sum((subgroup-np.mean(subgroup))**2)\n",
    "        ssb += len(subgroup)*(np.mean(subgroup)-np.mean(values))**2\n",
    "\n",
    "    return (ssb / (ssb + ssw))**.5"
   ]
  },
  {
   "cell_type": "code",
   "execution_count": 12,
   "metadata": {
    "colab": {
     "base_uri": "https://localhost:8080/"
    },
    "id": "bDA7cR2xa52Y",
    "outputId": "8e2a508b-a933-4b9f-a9ea-e4630895f394"
   },
   "outputs": [
    {
     "name": "stdout",
     "output_type": "stream",
     "text": [
      "Eta_squared: 0.0063\n",
      "Eta: 0.0791 \n",
      "\n"
     ]
    }
   ],
   "source": [
    "coef1 = corr_ratio(data['P_emaildomain'], data['isFraud'])\n",
    "print('Eta_squared: {:.4f}\\nEta: {:.4f} \\n'.format(coef1**2, coef1))"
   ]
  },
  {
   "cell_type": "code",
   "execution_count": 13,
   "metadata": {
    "colab": {
     "base_uri": "https://localhost:8080/"
    },
    "id": "cUO-n-9Ib4hs",
    "outputId": "83847c46-5859-4816-fbb6-27a41ca2e021"
   },
   "outputs": [
    {
     "name": "stdout",
     "output_type": "stream",
     "text": [
      "Eta_squared: 0.0006\n",
      "Eta: 0.0250 \n",
      "\n"
     ]
    }
   ],
   "source": [
    "coef1 = corr_ratio(data['card4'], data['isFraud'])\n",
    "print('Eta_squared: {:.4f}\\nEta: {:.4f} \\n'.format(coef1**2, coef1))"
   ]
  },
  {
   "cell_type": "code",
   "execution_count": 14,
   "metadata": {
    "colab": {
     "base_uri": "https://localhost:8080/"
    },
    "id": "im-Po9x8b_ZD",
    "outputId": "77490a52-4abd-462c-f729-ae3693aee8d5"
   },
   "outputs": [
    {
     "name": "stdout",
     "output_type": "stream",
     "text": [
      "Eta_squared: 0.0101\n",
      "Eta: 0.1005 \n",
      "\n"
     ]
    }
   ],
   "source": [
    "coef1 = corr_ratio(data['card6'], data['isFraud'])\n",
    "print('Eta_squared: {:.4f}\\nEta: {:.4f} \\n'.format(coef1**2, coef1))"
   ]
  },
  {
   "cell_type": "code",
   "execution_count": 15,
   "metadata": {
    "colab": {
     "base_uri": "https://localhost:8080/"
    },
    "id": "YvoavnVKcIJA",
    "outputId": "bbb5a8fa-3e43-4dc3-f3cb-3799a61f71ae"
   },
   "outputs": [
    {
     "name": "stdout",
     "output_type": "stream",
     "text": [
      "Eta_squared: 0.0284\n",
      "Eta: 0.1684 \n",
      "\n"
     ]
    }
   ],
   "source": [
    "coef1 = corr_ratio(data['ProductCD'], data['isFraud'])\n",
    "print('Eta_squared: {:.4f}\\nEta: {:.4f} \\n'.format(coef1**2, coef1))"
   ]
  },
  {
   "cell_type": "code",
   "execution_count": 16,
   "metadata": {
    "colab": {
     "base_uri": "https://localhost:8080/"
    },
    "id": "8K9-OVaocPz4",
    "outputId": "ef063682-f8c8-4ec7-a857-61daaa545ad1"
   },
   "outputs": [
    {
     "name": "stdout",
     "output_type": "stream",
     "text": [
      "Eta_squared: 0.0154\n",
      "Eta: 0.1241 \n",
      "\n"
     ]
    }
   ],
   "source": [
    "coef1 = corr_ratio(data['M6'], data['isFraud'])\n",
    "print('Eta_squared: {:.4f}\\nEta: {:.4f} \\n'.format(coef1**2, coef1))"
   ]
  },
  {
   "cell_type": "markdown",
   "metadata": {},
   "source": [
    "## Pre-processing Activities"
   ]
  },
  {
   "cell_type": "code",
   "execution_count": 17,
   "metadata": {
    "id": "HijY_Cx7JhPU"
   },
   "outputs": [],
   "source": [
    "v_data = data1.loc[:,'V12':'V321']"
   ]
  },
  {
   "cell_type": "code",
   "execution_count": 18,
   "metadata": {
    "id": "USwjdrd6JhPW"
   },
   "outputs": [],
   "source": [
    "nv = data1.loc[:,'TransactionID':'M6']"
   ]
  },
  {
   "cell_type": "code",
   "execution_count": 19,
   "metadata": {
    "id": "-qnLGKBIJhPX"
   },
   "outputs": [],
   "source": [
    "from sklearn import preprocessing"
   ]
  },
  {
   "cell_type": "code",
   "execution_count": 20,
   "metadata": {
    "id": "m6Tnwx91JhPX"
   },
   "outputs": [],
   "source": [
    "onehat_encoder = preprocessing.OneHotEncoder(sparse=False)\n",
    "label_encoder = preprocessing.LabelEncoder()"
   ]
  },
  {
   "cell_type": "code",
   "execution_count": 21,
   "metadata": {
    "id": "9RgaWFuYknwe"
   },
   "outputs": [],
   "source": [
    "encoded_ProductCD = pd.DataFrame(onehat_encoder.fit_transform(nv['ProductCD'].ravel().reshape(-1,1)))"
   ]
  },
  {
   "cell_type": "code",
   "execution_count": 22,
   "metadata": {
    "id": "NpBlQ8Pt83vy"
   },
   "outputs": [],
   "source": [
    "nv['card4'].replace({'visa':0,'mastercard':1,'american express':2,'discover':3},inplace = True)"
   ]
  },
  {
   "cell_type": "code",
   "execution_count": 23,
   "metadata": {
    "id": "uiu11hmHBVyT"
   },
   "outputs": [],
   "source": [
    "nv['card6'].replace({'debit':0,'credit':1,'debit or credit':2,'charge card':3},inplace = True)"
   ]
  },
  {
   "cell_type": "code",
   "execution_count": 24,
   "metadata": {
    "id": "GJvtZ0KnxJGq"
   },
   "outputs": [],
   "source": [
    "nv['M6'].replace({'F':0,'T':1},inplace = True)"
   ]
  },
  {
   "cell_type": "code",
   "execution_count": 25,
   "metadata": {
    "id": "xt6HgPkaJhPY"
   },
   "outputs": [],
   "source": [
    "nv_drop = nv.drop(['ProductCD','TransactionID','isFraud','P_emaildomain'],axis=1)"
   ]
  },
  {
   "cell_type": "code",
   "execution_count": 26,
   "metadata": {
    "id": "ifI5lk0vJhPZ"
   },
   "outputs": [],
   "source": [
    "final = pd.concat([encoded_ProductCD.reset_index(drop=True),nv_drop.reset_index(drop=True),v_data.reset_index(drop=True)],axis=1)"
   ]
  },
  {
   "cell_type": "code",
   "execution_count": 27,
   "metadata": {
    "colab": {
     "base_uri": "https://localhost:8080/",
     "height": 251
    },
    "id": "6LC9Je7Mf0T9",
    "outputId": "b5e8e002-2cd6-45f4-8609-6b6fdfbccc03"
   },
   "outputs": [
    {
     "data": {
      "text/html": [
       "<div>\n",
       "<style scoped>\n",
       "    .dataframe tbody tr th:only-of-type {\n",
       "        vertical-align: middle;\n",
       "    }\n",
       "\n",
       "    .dataframe tbody tr th {\n",
       "        vertical-align: top;\n",
       "    }\n",
       "\n",
       "    .dataframe thead th {\n",
       "        text-align: right;\n",
       "    }\n",
       "</style>\n",
       "<table border=\"1\" class=\"dataframe\">\n",
       "  <thead>\n",
       "    <tr style=\"text-align: right;\">\n",
       "      <th></th>\n",
       "      <th>0</th>\n",
       "      <th>1</th>\n",
       "      <th>2</th>\n",
       "      <th>3</th>\n",
       "      <th>4</th>\n",
       "      <th>TransactionDT</th>\n",
       "      <th>TransactionAmt</th>\n",
       "      <th>card1</th>\n",
       "      <th>card2</th>\n",
       "      <th>card3</th>\n",
       "      <th>...</th>\n",
       "      <th>V312</th>\n",
       "      <th>V313</th>\n",
       "      <th>V314</th>\n",
       "      <th>V315</th>\n",
       "      <th>V316</th>\n",
       "      <th>V317</th>\n",
       "      <th>V318</th>\n",
       "      <th>V319</th>\n",
       "      <th>V320</th>\n",
       "      <th>V321</th>\n",
       "    </tr>\n",
       "  </thead>\n",
       "  <tbody>\n",
       "    <tr>\n",
       "      <th>0</th>\n",
       "      <td>0.0</td>\n",
       "      <td>0.0</td>\n",
       "      <td>0.0</td>\n",
       "      <td>0.0</td>\n",
       "      <td>1.0</td>\n",
       "      <td>86400</td>\n",
       "      <td>68.5</td>\n",
       "      <td>13926</td>\n",
       "      <td>NaN</td>\n",
       "      <td>150.0</td>\n",
       "      <td>...</td>\n",
       "      <td>0.0</td>\n",
       "      <td>0.0</td>\n",
       "      <td>0.0</td>\n",
       "      <td>0.0</td>\n",
       "      <td>0.0</td>\n",
       "      <td>117.0</td>\n",
       "      <td>0.0</td>\n",
       "      <td>0.0</td>\n",
       "      <td>0.0</td>\n",
       "      <td>0.0</td>\n",
       "    </tr>\n",
       "    <tr>\n",
       "      <th>1</th>\n",
       "      <td>0.0</td>\n",
       "      <td>0.0</td>\n",
       "      <td>0.0</td>\n",
       "      <td>0.0</td>\n",
       "      <td>1.0</td>\n",
       "      <td>86401</td>\n",
       "      <td>29.0</td>\n",
       "      <td>2755</td>\n",
       "      <td>404.0</td>\n",
       "      <td>150.0</td>\n",
       "      <td>...</td>\n",
       "      <td>0.0</td>\n",
       "      <td>0.0</td>\n",
       "      <td>0.0</td>\n",
       "      <td>0.0</td>\n",
       "      <td>0.0</td>\n",
       "      <td>0.0</td>\n",
       "      <td>0.0</td>\n",
       "      <td>0.0</td>\n",
       "      <td>0.0</td>\n",
       "      <td>0.0</td>\n",
       "    </tr>\n",
       "    <tr>\n",
       "      <th>2</th>\n",
       "      <td>0.0</td>\n",
       "      <td>0.0</td>\n",
       "      <td>0.0</td>\n",
       "      <td>0.0</td>\n",
       "      <td>1.0</td>\n",
       "      <td>86469</td>\n",
       "      <td>59.0</td>\n",
       "      <td>4663</td>\n",
       "      <td>490.0</td>\n",
       "      <td>150.0</td>\n",
       "      <td>...</td>\n",
       "      <td>0.0</td>\n",
       "      <td>0.0</td>\n",
       "      <td>0.0</td>\n",
       "      <td>0.0</td>\n",
       "      <td>0.0</td>\n",
       "      <td>0.0</td>\n",
       "      <td>0.0</td>\n",
       "      <td>0.0</td>\n",
       "      <td>0.0</td>\n",
       "      <td>0.0</td>\n",
       "    </tr>\n",
       "    <tr>\n",
       "      <th>3</th>\n",
       "      <td>0.0</td>\n",
       "      <td>0.0</td>\n",
       "      <td>0.0</td>\n",
       "      <td>0.0</td>\n",
       "      <td>1.0</td>\n",
       "      <td>86499</td>\n",
       "      <td>50.0</td>\n",
       "      <td>18132</td>\n",
       "      <td>567.0</td>\n",
       "      <td>150.0</td>\n",
       "      <td>...</td>\n",
       "      <td>135.0</td>\n",
       "      <td>0.0</td>\n",
       "      <td>0.0</td>\n",
       "      <td>0.0</td>\n",
       "      <td>50.0</td>\n",
       "      <td>1404.0</td>\n",
       "      <td>790.0</td>\n",
       "      <td>0.0</td>\n",
       "      <td>0.0</td>\n",
       "      <td>0.0</td>\n",
       "    </tr>\n",
       "    <tr>\n",
       "      <th>4</th>\n",
       "      <td>0.0</td>\n",
       "      <td>1.0</td>\n",
       "      <td>0.0</td>\n",
       "      <td>0.0</td>\n",
       "      <td>0.0</td>\n",
       "      <td>86506</td>\n",
       "      <td>50.0</td>\n",
       "      <td>4497</td>\n",
       "      <td>514.0</td>\n",
       "      <td>150.0</td>\n",
       "      <td>...</td>\n",
       "      <td>0.0</td>\n",
       "      <td>0.0</td>\n",
       "      <td>0.0</td>\n",
       "      <td>0.0</td>\n",
       "      <td>0.0</td>\n",
       "      <td>0.0</td>\n",
       "      <td>0.0</td>\n",
       "      <td>0.0</td>\n",
       "      <td>0.0</td>\n",
       "      <td>0.0</td>\n",
       "    </tr>\n",
       "  </tbody>\n",
       "</table>\n",
       "<p>5 rows × 203 columns</p>\n",
       "</div>"
      ],
      "text/plain": [
       "     0    1    2    3    4  TransactionDT  TransactionAmt  card1  card2  \\\n",
       "0  0.0  0.0  0.0  0.0  1.0          86400            68.5  13926    NaN   \n",
       "1  0.0  0.0  0.0  0.0  1.0          86401            29.0   2755  404.0   \n",
       "2  0.0  0.0  0.0  0.0  1.0          86469            59.0   4663  490.0   \n",
       "3  0.0  0.0  0.0  0.0  1.0          86499            50.0  18132  567.0   \n",
       "4  0.0  1.0  0.0  0.0  0.0          86506            50.0   4497  514.0   \n",
       "\n",
       "   card3  ...   V312  V313  V314  V315  V316    V317   V318  V319  V320  V321  \n",
       "0  150.0  ...    0.0   0.0   0.0   0.0   0.0   117.0    0.0   0.0   0.0   0.0  \n",
       "1  150.0  ...    0.0   0.0   0.0   0.0   0.0     0.0    0.0   0.0   0.0   0.0  \n",
       "2  150.0  ...    0.0   0.0   0.0   0.0   0.0     0.0    0.0   0.0   0.0   0.0  \n",
       "3  150.0  ...  135.0   0.0   0.0   0.0  50.0  1404.0  790.0   0.0   0.0   0.0  \n",
       "4  150.0  ...    0.0   0.0   0.0   0.0   0.0     0.0    0.0   0.0   0.0   0.0  \n",
       "\n",
       "[5 rows x 203 columns]"
      ]
     },
     "execution_count": 27,
     "metadata": {},
     "output_type": "execute_result"
    }
   ],
   "source": [
    "final.head()"
   ]
  },
  {
   "cell_type": "markdown",
   "metadata": {},
   "source": [
    "## Missing value imputation with KNN"
   ]
  },
  {
   "cell_type": "code",
   "execution_count": 28,
   "metadata": {
    "id": "VMYYMhKwJhPZ"
   },
   "outputs": [],
   "source": [
    "final.to_csv('final_items.csv',index = False)"
   ]
  },
  {
   "cell_type": "code",
   "execution_count": 29,
   "metadata": {
    "id": "DePd7X39JhPZ"
   },
   "outputs": [],
   "source": [
    "import math\n",
    "fchunk = pd.read_csv('final_items.csv',chunksize = 1000)\n",
    "i=0\n",
    "for chunk in fchunk:\n",
    "    from sklearn.impute import KNNImputer\n",
    "    imputer = KNNImputer()\n",
    "    imputer.fit(chunk)\n",
    "    if(i==0):\n",
    "        f_Xtrans = pd.DataFrame(imputer.transform(chunk))\n",
    "    elif(i>0):\n",
    "        frames = [f_Xtrans,pd.DataFrame(imputer.transform(chunk))]\n",
    "        f_Xtrans = pd.concat(frames,ignore_index = True)\n",
    "    i = i+1"
   ]
  },
  {
   "cell_type": "code",
   "execution_count": 30,
   "metadata": {
    "id": "9F6N4_vgkNPf"
   },
   "outputs": [],
   "source": [
    "f_Xtrans = f_Xtrans.astype(int)"
   ]
  },
  {
   "cell_type": "code",
   "execution_count": 31,
   "metadata": {
    "colab": {
     "base_uri": "https://localhost:8080/",
     "height": 251
    },
    "id": "o5NsMcK0fVKa",
    "outputId": "cd19335f-b81d-4003-9068-bf7aac8625d3"
   },
   "outputs": [
    {
     "data": {
      "text/html": [
       "<div>\n",
       "<style scoped>\n",
       "    .dataframe tbody tr th:only-of-type {\n",
       "        vertical-align: middle;\n",
       "    }\n",
       "\n",
       "    .dataframe tbody tr th {\n",
       "        vertical-align: top;\n",
       "    }\n",
       "\n",
       "    .dataframe thead th {\n",
       "        text-align: right;\n",
       "    }\n",
       "</style>\n",
       "<table border=\"1\" class=\"dataframe\">\n",
       "  <thead>\n",
       "    <tr style=\"text-align: right;\">\n",
       "      <th></th>\n",
       "      <th>0</th>\n",
       "      <th>1</th>\n",
       "      <th>2</th>\n",
       "      <th>3</th>\n",
       "      <th>4</th>\n",
       "      <th>5</th>\n",
       "      <th>6</th>\n",
       "      <th>7</th>\n",
       "      <th>8</th>\n",
       "      <th>9</th>\n",
       "      <th>...</th>\n",
       "      <th>193</th>\n",
       "      <th>194</th>\n",
       "      <th>195</th>\n",
       "      <th>196</th>\n",
       "      <th>197</th>\n",
       "      <th>198</th>\n",
       "      <th>199</th>\n",
       "      <th>200</th>\n",
       "      <th>201</th>\n",
       "      <th>202</th>\n",
       "    </tr>\n",
       "  </thead>\n",
       "  <tbody>\n",
       "    <tr>\n",
       "      <th>0</th>\n",
       "      <td>0</td>\n",
       "      <td>0</td>\n",
       "      <td>0</td>\n",
       "      <td>0</td>\n",
       "      <td>1</td>\n",
       "      <td>86400</td>\n",
       "      <td>68</td>\n",
       "      <td>13926</td>\n",
       "      <td>379</td>\n",
       "      <td>150</td>\n",
       "      <td>...</td>\n",
       "      <td>0</td>\n",
       "      <td>0</td>\n",
       "      <td>0</td>\n",
       "      <td>0</td>\n",
       "      <td>0</td>\n",
       "      <td>117</td>\n",
       "      <td>0</td>\n",
       "      <td>0</td>\n",
       "      <td>0</td>\n",
       "      <td>0</td>\n",
       "    </tr>\n",
       "    <tr>\n",
       "      <th>1</th>\n",
       "      <td>0</td>\n",
       "      <td>0</td>\n",
       "      <td>0</td>\n",
       "      <td>0</td>\n",
       "      <td>1</td>\n",
       "      <td>86401</td>\n",
       "      <td>29</td>\n",
       "      <td>2755</td>\n",
       "      <td>404</td>\n",
       "      <td>150</td>\n",
       "      <td>...</td>\n",
       "      <td>0</td>\n",
       "      <td>0</td>\n",
       "      <td>0</td>\n",
       "      <td>0</td>\n",
       "      <td>0</td>\n",
       "      <td>0</td>\n",
       "      <td>0</td>\n",
       "      <td>0</td>\n",
       "      <td>0</td>\n",
       "      <td>0</td>\n",
       "    </tr>\n",
       "    <tr>\n",
       "      <th>2</th>\n",
       "      <td>0</td>\n",
       "      <td>0</td>\n",
       "      <td>0</td>\n",
       "      <td>0</td>\n",
       "      <td>1</td>\n",
       "      <td>86469</td>\n",
       "      <td>59</td>\n",
       "      <td>4663</td>\n",
       "      <td>490</td>\n",
       "      <td>150</td>\n",
       "      <td>...</td>\n",
       "      <td>0</td>\n",
       "      <td>0</td>\n",
       "      <td>0</td>\n",
       "      <td>0</td>\n",
       "      <td>0</td>\n",
       "      <td>0</td>\n",
       "      <td>0</td>\n",
       "      <td>0</td>\n",
       "      <td>0</td>\n",
       "      <td>0</td>\n",
       "    </tr>\n",
       "    <tr>\n",
       "      <th>3</th>\n",
       "      <td>0</td>\n",
       "      <td>0</td>\n",
       "      <td>0</td>\n",
       "      <td>0</td>\n",
       "      <td>1</td>\n",
       "      <td>86499</td>\n",
       "      <td>50</td>\n",
       "      <td>18132</td>\n",
       "      <td>567</td>\n",
       "      <td>150</td>\n",
       "      <td>...</td>\n",
       "      <td>135</td>\n",
       "      <td>0</td>\n",
       "      <td>0</td>\n",
       "      <td>0</td>\n",
       "      <td>50</td>\n",
       "      <td>1404</td>\n",
       "      <td>790</td>\n",
       "      <td>0</td>\n",
       "      <td>0</td>\n",
       "      <td>0</td>\n",
       "    </tr>\n",
       "    <tr>\n",
       "      <th>4</th>\n",
       "      <td>0</td>\n",
       "      <td>1</td>\n",
       "      <td>0</td>\n",
       "      <td>0</td>\n",
       "      <td>0</td>\n",
       "      <td>86506</td>\n",
       "      <td>50</td>\n",
       "      <td>4497</td>\n",
       "      <td>514</td>\n",
       "      <td>150</td>\n",
       "      <td>...</td>\n",
       "      <td>0</td>\n",
       "      <td>0</td>\n",
       "      <td>0</td>\n",
       "      <td>0</td>\n",
       "      <td>0</td>\n",
       "      <td>0</td>\n",
       "      <td>0</td>\n",
       "      <td>0</td>\n",
       "      <td>0</td>\n",
       "      <td>0</td>\n",
       "    </tr>\n",
       "  </tbody>\n",
       "</table>\n",
       "<p>5 rows × 203 columns</p>\n",
       "</div>"
      ],
      "text/plain": [
       "   0    1    2    3    4      5    6      7    8    9    ...  193  194  195  \\\n",
       "0    0    0    0    0    1  86400   68  13926  379  150  ...    0    0    0   \n",
       "1    0    0    0    0    1  86401   29   2755  404  150  ...    0    0    0   \n",
       "2    0    0    0    0    1  86469   59   4663  490  150  ...    0    0    0   \n",
       "3    0    0    0    0    1  86499   50  18132  567  150  ...  135    0    0   \n",
       "4    0    1    0    0    0  86506   50   4497  514  150  ...    0    0    0   \n",
       "\n",
       "   196  197   198  199  200  201  202  \n",
       "0    0    0   117    0    0    0    0  \n",
       "1    0    0     0    0    0    0    0  \n",
       "2    0    0     0    0    0    0    0  \n",
       "3    0   50  1404  790    0    0    0  \n",
       "4    0    0     0    0    0    0    0  \n",
       "\n",
       "[5 rows x 203 columns]"
      ]
     },
     "execution_count": 31,
     "metadata": {},
     "output_type": "execute_result"
    }
   ],
   "source": [
    "f_Xtrans.head()"
   ]
  },
  {
   "cell_type": "code",
   "execution_count": 32,
   "metadata": {
    "id": "DTuALQ_Rgp2H"
   },
   "outputs": [],
   "source": [
    "encoded_card4 = pd.DataFrame(onehat_encoder.fit_transform(f_Xtrans.iloc[:,10].ravel().reshape(-1,1)))\n",
    "encoded_card6 = pd.DataFrame(onehat_encoder.fit_transform(f_Xtrans.iloc[:,12].ravel().reshape(-1,1)))"
   ]
  },
  {
   "cell_type": "code",
   "execution_count": 33,
   "metadata": {
    "id": "yCVYkU6X2okj"
   },
   "outputs": [],
   "source": [
    "f_Xtrans.drop([10,12], axis=1, inplace=True)"
   ]
  },
  {
   "cell_type": "code",
   "execution_count": 34,
   "metadata": {
    "colab": {
     "base_uri": "https://localhost:8080/",
     "height": 251
    },
    "id": "LUSRNBMDgvpD",
    "outputId": "8d14d48c-1f98-4f82-d863-bc08336f947e"
   },
   "outputs": [
    {
     "data": {
      "text/html": [
       "<div>\n",
       "<style scoped>\n",
       "    .dataframe tbody tr th:only-of-type {\n",
       "        vertical-align: middle;\n",
       "    }\n",
       "\n",
       "    .dataframe tbody tr th {\n",
       "        vertical-align: top;\n",
       "    }\n",
       "\n",
       "    .dataframe thead th {\n",
       "        text-align: right;\n",
       "    }\n",
       "</style>\n",
       "<table border=\"1\" class=\"dataframe\">\n",
       "  <thead>\n",
       "    <tr style=\"text-align: right;\">\n",
       "      <th></th>\n",
       "      <th>0</th>\n",
       "      <th>1</th>\n",
       "      <th>2</th>\n",
       "      <th>3</th>\n",
       "      <th>4</th>\n",
       "      <th>5</th>\n",
       "      <th>6</th>\n",
       "      <th>7</th>\n",
       "      <th>8</th>\n",
       "      <th>9</th>\n",
       "      <th>...</th>\n",
       "      <th>193</th>\n",
       "      <th>194</th>\n",
       "      <th>195</th>\n",
       "      <th>196</th>\n",
       "      <th>197</th>\n",
       "      <th>198</th>\n",
       "      <th>199</th>\n",
       "      <th>200</th>\n",
       "      <th>201</th>\n",
       "      <th>202</th>\n",
       "    </tr>\n",
       "  </thead>\n",
       "  <tbody>\n",
       "    <tr>\n",
       "      <th>0</th>\n",
       "      <td>0</td>\n",
       "      <td>0</td>\n",
       "      <td>0</td>\n",
       "      <td>0</td>\n",
       "      <td>1</td>\n",
       "      <td>86400</td>\n",
       "      <td>68</td>\n",
       "      <td>13926</td>\n",
       "      <td>379</td>\n",
       "      <td>150</td>\n",
       "      <td>...</td>\n",
       "      <td>0</td>\n",
       "      <td>0</td>\n",
       "      <td>0</td>\n",
       "      <td>0</td>\n",
       "      <td>0</td>\n",
       "      <td>117</td>\n",
       "      <td>0</td>\n",
       "      <td>0</td>\n",
       "      <td>0</td>\n",
       "      <td>0</td>\n",
       "    </tr>\n",
       "    <tr>\n",
       "      <th>1</th>\n",
       "      <td>0</td>\n",
       "      <td>0</td>\n",
       "      <td>0</td>\n",
       "      <td>0</td>\n",
       "      <td>1</td>\n",
       "      <td>86401</td>\n",
       "      <td>29</td>\n",
       "      <td>2755</td>\n",
       "      <td>404</td>\n",
       "      <td>150</td>\n",
       "      <td>...</td>\n",
       "      <td>0</td>\n",
       "      <td>0</td>\n",
       "      <td>0</td>\n",
       "      <td>0</td>\n",
       "      <td>0</td>\n",
       "      <td>0</td>\n",
       "      <td>0</td>\n",
       "      <td>0</td>\n",
       "      <td>0</td>\n",
       "      <td>0</td>\n",
       "    </tr>\n",
       "    <tr>\n",
       "      <th>2</th>\n",
       "      <td>0</td>\n",
       "      <td>0</td>\n",
       "      <td>0</td>\n",
       "      <td>0</td>\n",
       "      <td>1</td>\n",
       "      <td>86469</td>\n",
       "      <td>59</td>\n",
       "      <td>4663</td>\n",
       "      <td>490</td>\n",
       "      <td>150</td>\n",
       "      <td>...</td>\n",
       "      <td>0</td>\n",
       "      <td>0</td>\n",
       "      <td>0</td>\n",
       "      <td>0</td>\n",
       "      <td>0</td>\n",
       "      <td>0</td>\n",
       "      <td>0</td>\n",
       "      <td>0</td>\n",
       "      <td>0</td>\n",
       "      <td>0</td>\n",
       "    </tr>\n",
       "    <tr>\n",
       "      <th>3</th>\n",
       "      <td>0</td>\n",
       "      <td>0</td>\n",
       "      <td>0</td>\n",
       "      <td>0</td>\n",
       "      <td>1</td>\n",
       "      <td>86499</td>\n",
       "      <td>50</td>\n",
       "      <td>18132</td>\n",
       "      <td>567</td>\n",
       "      <td>150</td>\n",
       "      <td>...</td>\n",
       "      <td>135</td>\n",
       "      <td>0</td>\n",
       "      <td>0</td>\n",
       "      <td>0</td>\n",
       "      <td>50</td>\n",
       "      <td>1404</td>\n",
       "      <td>790</td>\n",
       "      <td>0</td>\n",
       "      <td>0</td>\n",
       "      <td>0</td>\n",
       "    </tr>\n",
       "    <tr>\n",
       "      <th>4</th>\n",
       "      <td>0</td>\n",
       "      <td>1</td>\n",
       "      <td>0</td>\n",
       "      <td>0</td>\n",
       "      <td>0</td>\n",
       "      <td>86506</td>\n",
       "      <td>50</td>\n",
       "      <td>4497</td>\n",
       "      <td>514</td>\n",
       "      <td>150</td>\n",
       "      <td>...</td>\n",
       "      <td>0</td>\n",
       "      <td>0</td>\n",
       "      <td>0</td>\n",
       "      <td>0</td>\n",
       "      <td>0</td>\n",
       "      <td>0</td>\n",
       "      <td>0</td>\n",
       "      <td>0</td>\n",
       "      <td>0</td>\n",
       "      <td>0</td>\n",
       "    </tr>\n",
       "  </tbody>\n",
       "</table>\n",
       "<p>5 rows × 201 columns</p>\n",
       "</div>"
      ],
      "text/plain": [
       "   0    1    2    3    4      5    6      7    8    9    ...  193  194  195  \\\n",
       "0    0    0    0    0    1  86400   68  13926  379  150  ...    0    0    0   \n",
       "1    0    0    0    0    1  86401   29   2755  404  150  ...    0    0    0   \n",
       "2    0    0    0    0    1  86469   59   4663  490  150  ...    0    0    0   \n",
       "3    0    0    0    0    1  86499   50  18132  567  150  ...  135    0    0   \n",
       "4    0    1    0    0    0  86506   50   4497  514  150  ...    0    0    0   \n",
       "\n",
       "   196  197   198  199  200  201  202  \n",
       "0    0    0   117    0    0    0    0  \n",
       "1    0    0     0    0    0    0    0  \n",
       "2    0    0     0    0    0    0    0  \n",
       "3    0   50  1404  790    0    0    0  \n",
       "4    0    0     0    0    0    0    0  \n",
       "\n",
       "[5 rows x 201 columns]"
      ]
     },
     "execution_count": 34,
     "metadata": {},
     "output_type": "execute_result"
    }
   ],
   "source": [
    "f_Xtrans.head()"
   ]
  },
  {
   "cell_type": "code",
   "execution_count": 43,
   "metadata": {
    "id": "jy7GI-LNoyXA"
   },
   "outputs": [],
   "source": [
    "f_Xtrans = pd.concat([encoded_card6.reset_index(drop=True),f_Xtrans.reset_index(drop=True)],axis=1)"
   ]
  },
  {
   "cell_type": "code",
   "execution_count": 47,
   "metadata": {
    "id": "boryFwzYFd-9"
   },
   "outputs": [],
   "source": [
    "y = data['isFraud']"
   ]
  },
  {
   "cell_type": "code",
   "execution_count": 49,
   "metadata": {
    "id": "wiVkayMGJhPa"
   },
   "outputs": [],
   "source": [
    "from sklearn.preprocessing import StandardScaler\n",
    "sc=StandardScaler()"
   ]
  },
  {
   "cell_type": "code",
   "execution_count": 50,
   "metadata": {
    "id": "FsXmNi3cJhPa"
   },
   "outputs": [],
   "source": [
    "x_scale=sc.fit_transform(f_Xtrans)"
   ]
  },
  {
   "cell_type": "code",
   "execution_count": 54,
   "metadata": {
    "colab": {
     "base_uri": "https://localhost:8080/"
    },
    "id": "FcOEyfAUlak0",
    "outputId": "2a2364e3-0b94-4d76-a47c-f845c72cbd7f"
   },
   "outputs": [
    {
     "data": {
      "text/plain": [
       "(590540, 205)"
      ]
     },
     "execution_count": 54,
     "metadata": {},
     "output_type": "execute_result"
    }
   ],
   "source": [
    "x_scale.shape"
   ]
  },
  {
   "cell_type": "markdown",
   "metadata": {},
   "source": [
    "## Dimensionality reduction using PCA"
   ]
  },
  {
   "cell_type": "code",
   "execution_count": 55,
   "metadata": {
    "id": "x_H4QlTDJhPb"
   },
   "outputs": [],
   "source": [
    "from sklearn.decomposition import PCA\n",
    "pca=PCA(n_components=60)\n",
    "x_scale=pca.fit_transform(x_scale)"
   ]
  },
  {
   "cell_type": "code",
   "execution_count": 56,
   "metadata": {
    "colab": {
     "base_uri": "https://localhost:8080/"
    },
    "id": "QqERJ2QEJhPb",
    "outputId": "f028faa6-2da9-4144-c41a-da6c85069ae7"
   },
   "outputs": [
    {
     "data": {
      "text/plain": [
       "(590540, 60)"
      ]
     },
     "execution_count": 56,
     "metadata": {},
     "output_type": "execute_result"
    }
   ],
   "source": [
    "x_scale.shape"
   ]
  },
  {
   "cell_type": "code",
   "execution_count": 57,
   "metadata": {
    "id": "Q7w2HFE_JhPb"
   },
   "outputs": [],
   "source": [
    "x = x_scale"
   ]
  },
  {
   "cell_type": "code",
   "execution_count": 58,
   "metadata": {
    "id": "nd8CP4Vfygcj"
   },
   "outputs": [],
   "source": [
    "del x_scale"
   ]
  },
  {
   "cell_type": "markdown",
   "metadata": {},
   "source": [
    "## Splitting In Train and Test dataset"
   ]
  },
  {
   "cell_type": "code",
   "execution_count": 60,
   "metadata": {
    "id": "tYWg1LO9JhPc"
   },
   "outputs": [],
   "source": [
    "from sklearn import linear_model\n",
    "from sklearn.model_selection import train_test_split"
   ]
  },
  {
   "cell_type": "code",
   "execution_count": 61,
   "metadata": {
    "id": "cp5fEWABJhPc"
   },
   "outputs": [],
   "source": [
    "x_train,x_test,y_train,y_test=train_test_split(x,y,test_size=0.3)"
   ]
  },
  {
   "cell_type": "markdown",
   "metadata": {},
   "source": [
    "## Balancing the imbalance dataset"
   ]
  },
  {
   "cell_type": "code",
   "execution_count": 12,
   "metadata": {},
   "outputs": [],
   "source": [
    "from imblearn.under_sampling import NearMiss"
   ]
  },
  {
   "cell_type": "code",
   "execution_count": 62,
   "metadata": {
    "id": "cz44U2dMLZ6B"
   },
   "outputs": [],
   "source": [
    "from imblearn.under_sampling import TomekLinks"
   ]
  },
  {
   "cell_type": "code",
   "execution_count": 63,
   "metadata": {
    "colab": {
     "base_uri": "https://localhost:8080/"
    },
    "id": "HfMR6lASLzD8",
    "outputId": "38a6b135-85f7-4394-b782-36fa50737d85"
   },
   "outputs": [
    {
     "data": {
      "text/plain": [
       "(590540, 60)"
      ]
     },
     "execution_count": 63,
     "metadata": {},
     "output_type": "execute_result"
    }
   ],
   "source": [
    "x.shape"
   ]
  },
  {
   "cell_type": "code",
   "execution_count": 66,
   "metadata": {
    "colab": {
     "base_uri": "https://localhost:8080/"
    },
    "id": "i36fAXA1Ld4S",
    "outputId": "4cb58de6-0499-418f-c9e8-250f19bb1d24"
   },
   "outputs": [
    {
     "name": "stdout",
     "output_type": "stream",
     "text": [
      "(27816, 60)\n",
      "(27816,)\n"
     ]
    }
   ],
   "source": [
    "x_train, y_train = TomekLinks().fit_resample(x_train,y_train)\n",
    "print(x_train.shape)\n",
    "print(y_train.shape)"
   ]
  },
  {
   "cell_type": "code",
   "execution_count": 65,
   "metadata": {
    "colab": {
     "base_uri": "https://localhost:8080/"
    },
    "id": "D5FqZ_lSGkg2",
    "outputId": "bca86479-bfae-4386-f05f-0a911fa78d71"
   },
   "outputs": [
    {
     "name": "stdout",
     "output_type": "stream",
     "text": [
      "(28720, 60)\n",
      "(28720,)\n"
     ]
    }
   ],
   "source": [
    "x_train, y_train = NearMiss(version=3, n_neighbors_ver3=3).fit_resample(x_train,y_train)\n",
    "print(x_train.shape)\n",
    "print(y_train.shape)"
   ]
  },
  {
   "cell_type": "code",
   "execution_count": 67,
   "metadata": {
    "colab": {
     "base_uri": "https://localhost:8080/"
    },
    "id": "ejJorWwdfX_F",
    "outputId": "eb5007ea-4c82-4948-a9e3-8f98395cf139"
   },
   "outputs": [
    {
     "name": "stdout",
     "output_type": "stream",
     "text": [
      "(27816, 60)\n",
      "(27816,)\n"
     ]
    }
   ],
   "source": [
    "from imblearn.under_sampling import OneSidedSelection\n",
    "print(x_train.shape)\n",
    "print(y_train.shape)"
   ]
  },
  {
   "cell_type": "code",
   "execution_count": 68,
   "metadata": {
    "colab": {
     "base_uri": "https://localhost:8080/"
    },
    "id": "uxRxkqd6fbCK",
    "outputId": "8ff8cc17-be89-44e9-a0be-60c90ca3358f"
   },
   "outputs": [],
   "source": [
    "x_train, y_train = OneSidedSelection(n_neighbors=1, n_seeds_S=200).fit_resample(x_train,y_train)"
   ]
  },
  {
   "cell_type": "code",
   "execution_count": 69,
   "metadata": {
    "id": "IvkLC9bINhr6"
   },
   "outputs": [],
   "source": [
    "from imblearn.over_sampling import SMOTE"
   ]
  },
  {
   "cell_type": "code",
   "execution_count": 70,
   "metadata": {
    "id": "pMHlq1b6NzAR"
   },
   "outputs": [],
   "source": [
    "x_train, y_train = SMOTE().fit_resample(x_train,y_train)"
   ]
  },
  {
   "cell_type": "code",
   "execution_count": 71,
   "metadata": {
    "colab": {
     "base_uri": "https://localhost:8080/"
    },
    "id": "175Wfuq728o6",
    "outputId": "d4e1f55b-1cd3-43b8-d4fa-557711aed27d"
   },
   "outputs": [
    {
     "name": "stdout",
     "output_type": "stream",
     "text": [
      "(27460, 60)\n",
      "(27460,)\n"
     ]
    }
   ],
   "source": [
    "print(x_train.shape)\n",
    "print(y_train.shape)"
   ]
  },
  {
   "cell_type": "code",
   "execution_count": 72,
   "metadata": {
    "id": "wXqpJUND3b0f"
   },
   "outputs": [],
   "source": [
    "from imblearn.under_sampling import NeighbourhoodCleaningRule"
   ]
  },
  {
   "cell_type": "code",
   "execution_count": 73,
   "metadata": {
    "colab": {
     "base_uri": "https://localhost:8080/"
    },
    "id": "w-SBV0Ot3c7K",
    "outputId": "809deb1b-cedd-4ed3-f148-62768f84739c"
   },
   "outputs": [
    {
     "name": "stdout",
     "output_type": "stream",
     "text": [
      "(24019, 60)\n",
      "(24019,)\n"
     ]
    }
   ],
   "source": [
    "x_train, y_train = NeighbourhoodCleaningRule(n_neighbors=3, threshold_cleaning=0.5).fit_resample(x_train,y_train)\n",
    "print(x_train.shape)\n",
    "print(y_train.shape)"
   ]
  },
  {
   "cell_type": "code",
   "execution_count": 74,
   "metadata": {
    "id": "fiWciR1PRxU1"
   },
   "outputs": [],
   "source": [
    "from imblearn.over_sampling import ADASYN"
   ]
  },
  {
   "cell_type": "code",
   "execution_count": 75,
   "metadata": {
    "colab": {
     "base_uri": "https://localhost:8080/"
    },
    "id": "UwOYtK0mSDHg",
    "outputId": "44ed2149-230b-4b7a-e820-fa671635a559"
   },
   "outputs": [],
   "source": [
    "x_train, y_train = ADASYN().fit_resample(x_train,y_train)"
   ]
  },
  {
   "cell_type": "code",
   "execution_count": 76,
   "metadata": {
    "colab": {
     "base_uri": "https://localhost:8080/"
    },
    "id": "fisQ6o4iSYlM",
    "outputId": "03b27775-e7b6-46e1-c1b1-c7538ee84f31"
   },
   "outputs": [
    {
     "name": "stdout",
     "output_type": "stream",
     "text": [
      "(26449, 60)\n",
      "(26449,)\n"
     ]
    }
   ],
   "source": [
    "print(x_train.shape)\n",
    "print(y_train.shape)"
   ]
  },
  {
   "cell_type": "code",
   "execution_count": 77,
   "metadata": {
    "id": "9HcayjUTWVCJ"
   },
   "outputs": [],
   "source": [
    "from imblearn.over_sampling import BorderlineSMOTE"
   ]
  },
  {
   "cell_type": "code",
   "execution_count": 78,
   "metadata": {
    "colab": {
     "base_uri": "https://localhost:8080/"
    },
    "id": "1aoeroLhWkpq",
    "outputId": "4d4fea92-7625-43f9-8639-e6206dc2eeb9"
   },
   "outputs": [
    {
     "name": "stdout",
     "output_type": "stream",
     "text": [
      "(27460, 60)\n",
      "(27460,)\n"
     ]
    }
   ],
   "source": [
    "x_train, y_train = BorderlineSMOTE().fit_resample(x_train,y_train)\n",
    "print(x_train.shape)\n",
    "print(y_train.shape)"
   ]
  },
  {
   "cell_type": "code",
   "execution_count": 79,
   "metadata": {
    "id": "m4zjcSFwePrs"
   },
   "outputs": [],
   "source": [
    "from imblearn.over_sampling import SVMSMOTE"
   ]
  },
  {
   "cell_type": "code",
   "execution_count": 80,
   "metadata": {
    "colab": {
     "base_uri": "https://localhost:8080/"
    },
    "id": "fUtPrW18efJi",
    "outputId": "974efb64-f9b6-4806-fe9c-814d508050fd"
   },
   "outputs": [
    {
     "name": "stdout",
     "output_type": "stream",
     "text": [
      "(27460, 60)\n",
      "(27460,)\n"
     ]
    }
   ],
   "source": [
    "x_train, y_train = SVMSMOTE().fit_resample(x_train,y_train)\n",
    "print(x_train.shape)\n",
    "print(y_train.shape)"
   ]
  },
  {
   "cell_type": "code",
   "execution_count": 86,
   "metadata": {
    "id": "dLwL6nx8WrJS"
   },
   "outputs": [],
   "source": [
    "from imblearn.under_sampling import CondensedNearestNeighbour"
   ]
  },
  {
   "cell_type": "code",
   "execution_count": 87,
   "metadata": {
    "colab": {
     "base_uri": "https://localhost:8080/"
    },
    "id": "-sNEio-FWuub",
    "outputId": "32c4f852-2a1d-480f-ceef-3d2ade93ac0f"
   },
   "outputs": [
    {
     "name": "stdout",
     "output_type": "stream",
     "text": [
      "(7998, 60)\n",
      "(7998,)\n"
     ]
    }
   ],
   "source": [
    "x_train, y_train = CondensedNearestNeighbour(n_neighbors=1).fit_resample(x_train,y_train)\n",
    "print(x_train.shape)\n",
    "print(y_train.shape)"
   ]
  },
  {
   "cell_type": "code",
   "execution_count": 58,
   "metadata": {
    "colab": {
     "base_uri": "https://localhost:8080/"
    },
    "id": "9nEfaF_lxpmZ",
    "outputId": "bd926fc1-536c-46e4-f4f9-883f7b45f193"
   },
   "outputs": [],
   "source": [
    "from imblearn.combine import SMOTETomek"
   ]
  },
  {
   "cell_type": "code",
   "execution_count": 59,
   "metadata": {
    "colab": {
     "base_uri": "https://localhost:8080/"
    },
    "id": "NTlHKjoWxu0Y",
    "outputId": "2a61172a-031e-4846-a001-1194a2a13670"
   },
   "outputs": [
    {
     "name": "stdout",
     "output_type": "stream",
     "text": [
      "(796816, 60)\n",
      "(796816,)\n"
     ]
    }
   ],
   "source": [
    "x_train, y_train = SMOTETomek().fit_resample(x_train,y_train)\n",
    "print(x_train.shape)\n",
    "print(y_train.shape)"
   ]
  },
  {
   "cell_type": "markdown",
   "metadata": {},
   "source": [
    "## Modelling Part"
   ]
  },
  {
   "cell_type": "code",
   "execution_count": 60,
   "metadata": {
    "id": "sZI2z_ACJhPd"
   },
   "outputs": [],
   "source": [
    "log_model = linear_model.LogisticRegression()"
   ]
  },
  {
   "cell_type": "code",
   "execution_count": 61,
   "metadata": {
    "colab": {
     "base_uri": "https://localhost:8080/"
    },
    "id": "cLyGBkm_JhPd",
    "outputId": "03a04ab3-26b5-4936-8be3-835d172ac16b"
   },
   "outputs": [
    {
     "name": "stderr",
     "output_type": "stream",
     "text": [
      "C:\\Users\\hdar0\\anaconda3\\lib\\site-packages\\sklearn\\linear_model\\_logistic.py:763: ConvergenceWarning: lbfgs failed to converge (status=1):\n",
      "STOP: TOTAL NO. of ITERATIONS REACHED LIMIT.\n",
      "\n",
      "Increase the number of iterations (max_iter) or scale the data as shown in:\n",
      "    https://scikit-learn.org/stable/modules/preprocessing.html\n",
      "Please also refer to the documentation for alternative solver options:\n",
      "    https://scikit-learn.org/stable/modules/linear_model.html#logistic-regression\n",
      "  n_iter_i = _check_optimize_result(\n"
     ]
    },
    {
     "data": {
      "text/plain": [
       "LogisticRegression()"
      ]
     },
     "execution_count": 61,
     "metadata": {},
     "output_type": "execute_result"
    }
   ],
   "source": [
    "log_model.fit(x_train,y_train)"
   ]
  },
  {
   "cell_type": "code",
   "execution_count": 62,
   "metadata": {
    "colab": {
     "base_uri": "https://localhost:8080/"
    },
    "id": "vQQu0LxNJhPd",
    "outputId": "792429eb-8151-4e91-d603-ec769b76e4b7"
   },
   "outputs": [
    {
     "data": {
      "text/plain": [
       "0.7347806770948374"
      ]
     },
     "execution_count": 62,
     "metadata": {},
     "output_type": "execute_result"
    }
   ],
   "source": [
    "log_model.score(x_train,y_train)"
   ]
  },
  {
   "cell_type": "code",
   "execution_count": 63,
   "metadata": {
    "colab": {
     "base_uri": "https://localhost:8080/"
    },
    "id": "mZLa4YKpJhPd",
    "outputId": "13cd7290-9c75-41a3-dd93-b68ba6557e0a"
   },
   "outputs": [
    {
     "data": {
      "text/plain": [
       "0.7321095946083246"
      ]
     },
     "execution_count": 63,
     "metadata": {},
     "output_type": "execute_result"
    }
   ],
   "source": [
    "log_model.score(x_test,y_test)"
   ]
  },
  {
   "cell_type": "code",
   "execution_count": 64,
   "metadata": {
    "id": "wwBhHg6EJhPd"
   },
   "outputs": [],
   "source": [
    "y_pred=log_model.predict(x_test)"
   ]
  },
  {
   "cell_type": "code",
   "execution_count": 65,
   "metadata": {
    "colab": {
     "base_uri": "https://localhost:8080/"
    },
    "id": "Q2_a0JENJhPe",
    "outputId": "7dd762f0-5a3a-4c0f-80e8-a8b61f6a166c"
   },
   "outputs": [
    {
     "name": "stdout",
     "output_type": "stream",
     "text": [
      "accuracy 0.7321095946083246\n"
     ]
    }
   ],
   "source": [
    "from sklearn.metrics import confusion_matrix, accuracy_score\n",
    "cm = confusion_matrix(y_test,y_pred)\n",
    "print('accuracy %s' % accuracy_score(y_test, y_pred))"
   ]
  },
  {
   "cell_type": "code",
   "execution_count": 66,
   "metadata": {
    "colab": {
     "base_uri": "https://localhost:8080/"
    },
    "id": "aY9CsLdiJhPe",
    "outputId": "73c564ed-e6cc-46d5-c901-b3b90fce073d"
   },
   "outputs": [
    {
     "data": {
      "text/plain": [
       "array([[125222,  45820],\n",
       "       [  1640,   4480]], dtype=int64)"
      ]
     },
     "execution_count": 66,
     "metadata": {},
     "output_type": "execute_result"
    }
   ],
   "source": [
    "cm"
   ]
  },
  {
   "cell_type": "code",
   "execution_count": 67,
   "metadata": {
    "id": "djAAR-tRJhPe"
   },
   "outputs": [],
   "source": [
    "from xgboost import XGBClassifier"
   ]
  },
  {
   "cell_type": "code",
   "execution_count": 68,
   "metadata": {
    "id": "a54I9bBZWUM2"
   },
   "outputs": [],
   "source": [
    "default = XGBClassifier()"
   ]
  },
  {
   "cell_type": "code",
   "execution_count": 69,
   "metadata": {
    "colab": {
     "base_uri": "https://localhost:8080/"
    },
    "id": "gjfdnEDcWYpM",
    "outputId": "564fb253-91de-4c1b-ac10-f2c34335983d"
   },
   "outputs": [
    {
     "name": "stderr",
     "output_type": "stream",
     "text": [
      "C:\\Users\\hdar0\\anaconda3\\lib\\site-packages\\xgboost\\sklearn.py:1146: UserWarning: The use of label encoder in XGBClassifier is deprecated and will be removed in a future release. To remove this warning, do the following: 1) Pass option use_label_encoder=False when constructing XGBClassifier object; and 2) Encode your labels (y) as integers starting with 0, i.e. 0, 1, 2, ..., [num_class - 1].\n",
      "  warnings.warn(label_encoder_deprecation_msg, UserWarning)\n"
     ]
    },
    {
     "name": "stdout",
     "output_type": "stream",
     "text": [
      "[19:34:23] WARNING: C:/Users/Administrator/workspace/xgboost-win64_release_1.4.0/src/learner.cc:1095: Starting in XGBoost 1.3.0, the default evaluation metric used with the objective 'binary:logistic' was changed from 'error' to 'logloss'. Explicitly set eval_metric if you'd like to restore the old behavior.\n"
     ]
    },
    {
     "data": {
      "text/plain": [
       "XGBClassifier(base_score=0.5, booster='gbtree', colsample_bylevel=1,\n",
       "              colsample_bynode=1, colsample_bytree=1, gamma=0, gpu_id=-1,\n",
       "              importance_type='gain', interaction_constraints='',\n",
       "              learning_rate=0.300000012, max_delta_step=0, max_depth=6,\n",
       "              min_child_weight=1, missing=nan, monotone_constraints='()',\n",
       "              n_estimators=100, n_jobs=8, num_parallel_tree=1, random_state=0,\n",
       "              reg_alpha=0, reg_lambda=1, scale_pos_weight=1, subsample=1,\n",
       "              tree_method='exact', validate_parameters=1, verbosity=None)"
      ]
     },
     "execution_count": 69,
     "metadata": {},
     "output_type": "execute_result"
    }
   ],
   "source": [
    "default.fit(x_train,y_train)"
   ]
  },
  {
   "cell_type": "code",
   "execution_count": 70,
   "metadata": {
    "colab": {
     "base_uri": "https://localhost:8080/"
    },
    "id": "QW2OaNq8WbgS",
    "outputId": "b1eeb953-4a01-468b-d7d4-54ff07694c35"
   },
   "outputs": [
    {
     "data": {
      "text/plain": [
       "0.8939629726310717"
      ]
     },
     "execution_count": 70,
     "metadata": {},
     "output_type": "execute_result"
    }
   ],
   "source": [
    "default.score(x_train,y_train)"
   ]
  },
  {
   "cell_type": "code",
   "execution_count": 71,
   "metadata": {
    "colab": {
     "base_uri": "https://localhost:8080/"
    },
    "id": "fkMKWOaEanEy",
    "outputId": "837b6a67-a030-4803-db66-118578fbb882"
   },
   "outputs": [
    {
     "data": {
      "text/plain": [
       "0.8847777740147436"
      ]
     },
     "execution_count": 71,
     "metadata": {},
     "output_type": "execute_result"
    }
   ],
   "source": [
    "default.score(x_test,y_test)"
   ]
  },
  {
   "cell_type": "code",
   "execution_count": 72,
   "metadata": {
    "id": "DPN0t8oUarzE"
   },
   "outputs": [],
   "source": [
    "y_pred=default.predict(x_test)"
   ]
  },
  {
   "cell_type": "code",
   "execution_count": 73,
   "metadata": {
    "colab": {
     "base_uri": "https://localhost:8080/"
    },
    "id": "Al-8qKDWa_aZ",
    "outputId": "00041f86-2d3e-45c2-d799-de94aab3a29d"
   },
   "outputs": [
    {
     "name": "stdout",
     "output_type": "stream",
     "text": [
      "accuracy 0.8847777740147436\n"
     ]
    }
   ],
   "source": [
    "from sklearn.metrics import confusion_matrix, accuracy_score\n",
    "cm = confusion_matrix(y_test,y_pred)\n",
    "print('accuracy %s' % accuracy_score(y_test, y_pred))"
   ]
  },
  {
   "cell_type": "code",
   "execution_count": 74,
   "metadata": {
    "colab": {
     "base_uri": "https://localhost:8080/"
    },
    "id": "CcHiW33KbGZJ",
    "outputId": "b2e84393-669c-4d5a-ec3a-900c57d5a503"
   },
   "outputs": [
    {
     "data": {
      "text/plain": [
       "array([[152429,  18613],\n",
       "       [  1800,   4320]], dtype=int64)"
      ]
     },
     "execution_count": 74,
     "metadata": {},
     "output_type": "execute_result"
    }
   ],
   "source": [
    "cm"
   ]
  },
  {
   "cell_type": "code",
   "execution_count": 89,
   "metadata": {
    "id": "tW6dakJctlYp"
   },
   "outputs": [],
   "source": [
    "from sklearn.metrics import roc_curve\n",
    "from sklearn.metrics import roc_auc_score"
   ]
  },
  {
   "cell_type": "code",
   "execution_count": 90,
   "metadata": {
    "id": "LAm1qc72umB0"
   },
   "outputs": [],
   "source": [
    "ns_probs = [0 for _ in range(len(y_test))]\n",
    "lr_probs = model.predict_proba(x_test)\n",
    "lr_probs = lr_probs[:, 1]\n",
    "ns_auc = roc_auc_score(y_test, ns_probs)\n",
    "lr_auc = roc_auc_score(y_test, lr_probs)"
   ]
  },
  {
   "cell_type": "code",
   "execution_count": 91,
   "metadata": {
    "colab": {
     "base_uri": "https://localhost:8080/"
    },
    "id": "6aJZuFGMuqRw",
    "outputId": "83294a65-5187-44d9-c32d-938d75ef1469"
   },
   "outputs": [
    {
     "name": "stdout",
     "output_type": "stream",
     "text": [
      "No Skill: ROC AUC=0.500000\n",
      "XGBoost: ROC AUC=0.877341\n"
     ]
    }
   ],
   "source": [
    "print('No Skill: ROC AUC=%f' % (ns_auc))\n",
    "print('XGBoost: ROC AUC=%f' % (lr_auc))"
   ]
  },
  {
   "cell_type": "code",
   "execution_count": 92,
   "metadata": {
    "id": "9RvTCZELwes6"
   },
   "outputs": [],
   "source": [
    "from sklearn.metrics import f1_score"
   ]
  },
  {
   "cell_type": "code",
   "execution_count": 93,
   "metadata": {
    "colab": {
     "base_uri": "https://localhost:8080/"
    },
    "id": "8UTIvk3VyHcA",
    "outputId": "7f5d9550-f666-4d73-e4cd-f459dc520e28"
   },
   "outputs": [
    {
     "data": {
      "text/plain": [
       "0.5656066199297818"
      ]
     },
     "execution_count": 93,
     "metadata": {},
     "output_type": "execute_result"
    }
   ],
   "source": [
    "f1_score(y_test, y_pred, average='micro')"
   ]
  },
  {
   "cell_type": "code",
   "execution_count": null,
   "metadata": {
    "id": "nhPOJAaemGkj"
   },
   "outputs": [],
   "source": []
  }
 ],
 "metadata": {
  "accelerator": "GPU",
  "colab": {
   "collapsed_sections": [],
   "name": "capstone_project1.ipynb",
   "provenance": []
  },
  "kernelspec": {
   "display_name": "Python 3 (ipykernel)",
   "language": "python",
   "name": "python3"
  },
  "language_info": {
   "codemirror_mode": {
    "name": "ipython",
    "version": 3
   },
   "file_extension": ".py",
   "mimetype": "text/x-python",
   "name": "python",
   "nbconvert_exporter": "python",
   "pygments_lexer": "ipython3",
   "version": "3.9.7"
  }
 },
 "nbformat": 4,
 "nbformat_minor": 1
}
